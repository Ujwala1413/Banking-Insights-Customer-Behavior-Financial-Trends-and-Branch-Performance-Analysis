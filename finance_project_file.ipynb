{
 "cells": [
  {
   "cell_type": "markdown",
   "id": "d2d318d1-78eb-42d0-abc8-e71c41d3b20a",
   "metadata": {},
   "source": [
    "### 1. Connecting with database"
   ]
  },
  {
   "cell_type": "markdown",
   "id": "d244c084-25b3-41e2-8aac-d3435881a027",
   "metadata": {},
   "source": [
    "pip install mysql-connector-python"
   ]
  },
  {
   "cell_type": "code",
   "execution_count": 1,
   "id": "d0f63809-8dbd-4726-93f1-c13afb7b30b0",
   "metadata": {},
   "outputs": [
    {
     "name": "stdout",
     "output_type": "stream",
     "text": [
      "Connected to the finance_project database\n",
      "Database connection closed.\n"
     ]
    }
   ],
   "source": [
    "import mysql.connector\n",
    "from mysql.connector import Error\n",
    "\n",
    "def connect_to_database():\n",
    "    try:\n",
    "        # Replace with your MySQL server details\n",
    "        connection = mysql.connector.connect(\n",
    "            host='127.0.0.1',          \n",
    "            user='root',      \n",
    "            password='root',  \n",
    "            database='finance_project' \n",
    "        )\n",
    "\n",
    "        if connection.is_connected():\n",
    "            print(\"Connected to the finance_project database\")\n",
    "            return connection\n",
    "    except Error as e:\n",
    "        print(f\"Error: {e}\")\n",
    "        return None\n",
    "\n",
    "# Call the function to connect\n",
    "db_connection = connect_to_database()\n",
    "\n",
    "# Close the connection when done\n",
    "if db_connection:\n",
    "    db_connection.close()\n",
    "    print(\"Database connection closed.\")\n"
   ]
  },
  {
   "cell_type": "code",
   "execution_count": 2,
   "id": "9e6005ee-9bfa-4d3a-80e0-88917cea3b24",
   "metadata": {},
   "outputs": [
    {
     "name": "stdout",
     "output_type": "stream",
     "text": [
      "Requirement already satisfied: pyodbc in c:\\users\\hp\\appdata\\local\\programs\\python\\python311\\lib\\site-packages (5.2.0)Note: you may need to restart the kernel to use updated packages.\n"
     ]
    },
    {
     "name": "stderr",
     "output_type": "stream",
     "text": [
      "\n",
      "[notice] A new release of pip is available: 23.2.1 -> 24.3.1\n",
      "[notice] To update, run: python.exe -m pip install --upgrade pip\n"
     ]
    },
    {
     "name": "stdout",
     "output_type": "stream",
     "text": [
      "\n"
     ]
    }
   ],
   "source": [
    "pip install pyodbc"
   ]
  },
  {
   "cell_type": "raw",
   "id": "893a51a8-cae7-4e23-85c2-7ef007cf750e",
   "metadata": {},
   "source": [
    "import pyodbc\n",
    "\n",
    "def connect_to_sql_server(server, database, username, password):\n",
    "    server_connection = f\"\"\"\n",
    "        DRIVER={{ODBC Driver 17 for SQL Server}};\n",
    "        SERVER={DESKTOP-43N8F6N\\SQLEXPRESS};\n",
    "        DATABASE={database};\n",
    "        UID={};\n",
    "        PWD={};\n",
    "    \"\"\"\n",
    "\n",
    "    conn = pyodbc.connect(server_connection)\n",
    "    return conn\n",
    "\n",
    "try:\n",
    "    conn = connect_to_sql_server(server, database, username, password)\n",
    "    print(\"Connected to SQL Server successfully!\")\n",
    "\n",
    "    cursor = conn.cursor()\n",
    "    cursor.execute(\"SELECT * FROM your_table_name\")\n",
    "    rows = cursor.fetchall()\n",
    "    for row in rows:\n",
    "        print(row)\n",
    "\n",
    "except pyodbc.Error as e:\n",
    "    print(\"Error connecting to SQL Server:\", e)\n",
    "\n",
    "finally:\n",
    "    if conn:\n",
    "        conn.close()\n",
    "        print(\"Database connection closed.\")"
   ]
  },
  {
   "cell_type": "markdown",
   "id": "43f8c29a-9798-46a2-a8c8-d47f8d3bfc5b",
   "metadata": {},
   "source": [
    "## Project Overview:\n",
    "#### This project aims to identify potential customers for cross-selling opportunities within a banking environment. By analysing customer data that includes financial behavior, account status, transaction history, and other relevant attributes, the goal is to propose targeted financial products that may benefit each customer. The focus is on leveraging existing customer data to identify those who would most likely benefit from premium credit cards, loans, savings accounts, and other relevant products, thereby enhancing the bank's sales and customer satisfaction."
   ]
  },
  {
   "cell_type": "markdown",
   "id": "5c1a7688-c97e-4b50-a3ae-3f04c810155a",
   "metadata": {},
   "source": [
    "### 1. Coverting CSV files into sql dump files."
   ]
  },
  {
   "cell_type": "code",
   "execution_count": 3,
   "id": "de3ac787-420e-4027-8971-9f7205ab9a60",
   "metadata": {},
   "outputs": [
    {
     "name": "stdout",
     "output_type": "stream",
     "text": [
      "SQL dump has been written to accounnts_data_dump.sql\n"
     ]
    }
   ],
   "source": [
    "import pandas as pd\n",
    "import sqlite3\n",
    "\n",
    "#  Ensuring file path for Accounts data\n",
    "accounts_data = \"accounts_data.csv\"  \n",
    "desired_table_name = \"accounts_data_file\"  \n",
    "output_file = \"accounnts_data_dump.sql\"  \n",
    "\n",
    "# Step 1: Loading the CSV data into dataframe\n",
    "df = pd.read_csv(accounts_data)\n",
    "\n",
    "# Step 2: Creating SQLite in-memory database and export as SQL dump\n",
    "conn = sqlite3.connect(\":memory:\")  \n",
    "df.to_sql(desired_table_name, conn, if_exists=\"replace\", index=False)  # Loading data in temperory table of sqldatabase\n",
    "\n",
    "# Step 3: Generating SQL dump file\n",
    "with open(output_file, \"w\") as f:\n",
    "    for line in conn.iterdump():\n",
    "        f.write(f\"{line}\\n\")\n",
    "\n",
    "print(f\"SQL dump has been written to {output_file}\")\n",
    "conn.close()"
   ]
  },
  {
   "cell_type": "code",
   "execution_count": 4,
   "id": "325feab2-6929-4f6f-bb5b-accd6a41b8a4",
   "metadata": {},
   "outputs": [
    {
     "name": "stdout",
     "output_type": "stream",
     "text": [
      "SQL dump has been written to E:\\USER\\HP\\Desktop\\DATA ANALYTICS\\Live Project\\branches_Dump.sql\n"
     ]
    }
   ],
   "source": [
    "import pandas as pd\n",
    "import sqlite3\n",
    "\n",
    "def csv_to_sql_dump(csv_file_path, output_sql_file_path, table_name=\"Branches\"):\n",
    "    try:\n",
    "        df = pd.read_csv(csv_file_path)\n",
    "        conn = sqlite3.connect(\":memory:\")\n",
    "        df.to_sql(table_name, conn, if_exists=\"replace\", index=False)\n",
    "        with open(output_sql_file_path, \"w\") as f:\n",
    "            for line in conn.iterdump():\n",
    "                f.write(f\"{line}\\n\")\n",
    "        print(f\"SQL dump has been written to {output_sql_file_path}\")\n",
    "    except Exception as e:\n",
    "        print(f\"An error occurred: {e}\")\n",
    "    finally:\n",
    "        conn.close()\n",
    "\n",
    "csv_to_sql_dump(\n",
    "    csv_file_path=r\"E:\\USER\\HP\\Desktop\\DATA ANALYTICS\\Live Project\\branches.csv\",\n",
    "    output_sql_file_path=r\"E:\\USER\\HP\\Desktop\\DATA ANALYTICS\\Live Project\\branches_Dump.sql\"\n",
    ")"
   ]
  },
  {
   "cell_type": "code",
   "execution_count": 5,
   "id": "74c526ae-b0b5-4cb2-86d5-5c1f9591ec78",
   "metadata": {},
   "outputs": [
    {
     "name": "stdout",
     "output_type": "stream",
     "text": [
      "SQL dump has been written to E:\\USER\\HP\\Desktop\\DATA ANALYTICS\\Live Project\\accounts_data_Dump.sql\n"
     ]
    }
   ],
   "source": [
    "csv_file_path=r\"E:\\USER\\HP\\Desktop\\DATA ANALYTICS\\Live Project\\accounts_data.csv\"\n",
    "output_sql_file_path=r\"E:\\USER\\HP\\Desktop\\DATA ANALYTICS\\Live Project\\accounts_data_Dump.sql\"\n",
    "table_name=\"accounts\"\n",
    "csv_to_sql_dump(\n",
    "    csv_file_path, output_sql_file_path,table_name\n",
    ")"
   ]
  },
  {
   "cell_type": "code",
   "execution_count": 6,
   "id": "646d4067-a1f4-49b6-a062-d86ef2214440",
   "metadata": {},
   "outputs": [
    {
     "name": "stdout",
     "output_type": "stream",
     "text": [
      "SQL dump has been written to E:\\USER\\HP\\Desktop\\DATA ANALYTICS\\Live Project\\branches_Dump.sql\n"
     ]
    }
   ],
   "source": [
    "csv_file_path=r\"E:\\USER\\HP\\Desktop\\DATA ANALYTICS\\Live Project\\branches.csv\"\n",
    "output_sql_file_path=r\"E:\\USER\\HP\\Desktop\\DATA ANALYTICS\\Live Project\\branches_Dump.sql\"\n",
    "table_name=\"branches\"\n",
    "csv_to_sql_dump(\n",
    "    csv_file_path, output_sql_file_path,table_name\n",
    ")\n"
   ]
  },
  {
   "cell_type": "code",
   "execution_count": 7,
   "id": "ae5c48a6-f8eb-4520-9965-4c8b9f32cfc1",
   "metadata": {},
   "outputs": [
    {
     "name": "stdout",
     "output_type": "stream",
     "text": [
      "SQL dump has been written to E:\\USER\\HP\\Desktop\\DATA ANALYTICS\\Live Project\\customer_data_Dump.sql\n"
     ]
    }
   ],
   "source": [
    "csv_file_path=r\"E:\\USER\\HP\\Desktop\\DATA ANALYTICS\\Live Project\\customer_data.csv\"\n",
    "output_sql_file_path=r\"E:\\USER\\HP\\Desktop\\DATA ANALYTICS\\Live Project\\customer_data_Dump.sql\"\n",
    "table_name=\"customers_data\"\n",
    "csv_to_sql_dump(\n",
    "    csv_file_path, output_sql_file_path,table_name\n",
    ")"
   ]
  },
  {
   "cell_type": "code",
   "execution_count": 8,
   "id": "f10204a1-5aea-4a0d-a4a8-8c9109954187",
   "metadata": {},
   "outputs": [
    {
     "name": "stdout",
     "output_type": "stream",
     "text": [
      "SQL dump has been written to E:\\USER\\HP\\Desktop\\DATA ANALYTICS\\Live Project\\kyc_data_Dump.sql\n"
     ]
    }
   ],
   "source": [
    "csv_file_path=r\"E:\\USER\\HP\\Desktop\\DATA ANALYTICS\\Live Project\\kyc_data.csv\"\n",
    "output_sql_file_path=r\"E:\\USER\\HP\\Desktop\\DATA ANALYTICS\\Live Project\\kyc_data_Dump.sql\"\n",
    "table_name=\"kyc_data\"\n",
    "csv_to_sql_dump(\n",
    "    csv_file_path, output_sql_file_path,table_name\n",
    ")"
   ]
  },
  {
   "cell_type": "code",
   "execution_count": 9,
   "id": "94d4394f-b015-40f4-ab6f-155ccdfdd522",
   "metadata": {},
   "outputs": [
    {
     "name": "stdout",
     "output_type": "stream",
     "text": [
      "SQL dump has been written to E:\\USER\\HP\\Desktop\\DATA ANALYTICS\\Live Project\\loans_Dump.sql\n"
     ]
    }
   ],
   "source": [
    "csv_file_path=r\"E:\\USER\\HP\\Desktop\\DATA ANALYTICS\\Live Project\\loans.csv\"\n",
    "output_sql_file_path=r\"E:\\USER\\HP\\Desktop\\DATA ANALYTICS\\Live Project\\loans_Dump.sql\"\n",
    "table_name=\"loans\"\n",
    "csv_to_sql_dump(\n",
    "    csv_file_path, output_sql_file_path,table_name\n",
    ")"
   ]
  },
  {
   "cell_type": "code",
   "execution_count": 10,
   "id": "2b5ea9e2-0cc8-41f8-9a31-115d5a76f345",
   "metadata": {},
   "outputs": [
    {
     "name": "stdout",
     "output_type": "stream",
     "text": [
      "SQL dump has been written to E:\\USER\\HP\\Desktop\\DATA ANALYTICS\\Live Project\\payments_data_Dump.sql\n"
     ]
    }
   ],
   "source": [
    "csv_file_path=r\"E:\\USER\\HP\\Desktop\\DATA ANALYTICS\\Live Project\\payments_data.csv\"\n",
    "output_sql_file_path=r\"E:\\USER\\HP\\Desktop\\DATA ANALYTICS\\Live Project\\payments_data_Dump.sql\"\n",
    "table_name=\"payments\"\n",
    "csv_to_sql_dump(\n",
    "    csv_file_path, output_sql_file_path,table_name\n",
    ")"
   ]
  },
  {
   "cell_type": "code",
   "execution_count": 11,
   "id": "e5ada364-8207-4bbb-aa66-41f87ebc706a",
   "metadata": {},
   "outputs": [
    {
     "name": "stdout",
     "output_type": "stream",
     "text": [
      "SQL dump has been written to E:\\USER\\HP\\Desktop\\DATA ANALYTICS\\Live Project\\transactions_data_Dump.sql\n"
     ]
    }
   ],
   "source": [
    "csv_file_path=r\"E:\\USER\\HP\\Desktop\\DATA ANALYTICS\\Live Project\\transactions_data.csv\"\n",
    "output_sql_file_path=r\"E:\\USER\\HP\\Desktop\\DATA ANALYTICS\\Live Project\\transactions_data_Dump.sql\"\n",
    "table_name=\"transaction_data\"\n",
    "csv_to_sql_dump(\n",
    "    csv_file_path, output_sql_file_path,table_name\n",
    ")"
   ]
  },
  {
   "cell_type": "markdown",
   "id": "ef6544c2-81fa-4290-b321-9d196857de2b",
   "metadata": {},
   "source": [
    "### 3. Importing SQL Dump Files into Database finance_project"
   ]
  },
  {
   "cell_type": "code",
   "execution_count": 12,
   "id": "62ca262e-ba04-415c-8edf-76cb57df96f1",
   "metadata": {},
   "outputs": [
    {
     "name": "stdout",
     "output_type": "stream",
     "text": [
      "Connected to the finance_project database\n",
      "Error importing SQL dump: 1064 (42000): You have an error in your SQL syntax; check the manual that corresponds to your MySQL server version for the right syntax to use near '\"accounts\" (\n",
      "\"account_id\" REAL,\n",
      "  \"customer_id\" REAL,\n",
      "  \"branch_id\" REAL,\n",
      "  \"acc' at line 1\n",
      "Error importing SQL dump: 1064 (42000): You have an error in your SQL syntax; check the manual that corresponds to your MySQL server version for the right syntax to use near 'TRANSACTION;\n",
      "CREATE TABLE \"branches\" (\n",
      "\"branch_id\" INTEGER,\n",
      "  \"branch_name\" TEXT' at line 1\n",
      "Error importing SQL dump: 1064 (42000): You have an error in your SQL syntax; check the manual that corresponds to your MySQL server version for the right syntax to use near 'TRANSACTION;\n",
      "CREATE TABLE \"customers_data\" (\n",
      "\"customer_id\" REAL,\n",
      "  \"first_name\" ' at line 1\n",
      "Error importing SQL dump: 1064 (42000): You have an error in your SQL syntax; check the manual that corresponds to your MySQL server version for the right syntax to use near 'TRANSACTION;\n",
      "CREATE TABLE \"kyc_data\" (\n",
      "\"kyc_id\" INTEGER,\n",
      "  \"customer_id\" INTEGER' at line 1\n",
      "Error importing SQL dump: 1064 (42000): You have an error in your SQL syntax; check the manual that corresponds to your MySQL server version for the right syntax to use near 'TRANSACTION;\n",
      "CREATE TABLE \"loans\" (\n",
      "\"loan_id\" REAL,\n",
      "  \"customer_id\" REAL,\n",
      "  \"loa' at line 1\n",
      "Error importing SQL dump: 1064 (42000): You have an error in your SQL syntax; check the manual that corresponds to your MySQL server version for the right syntax to use near 'TRANSACTION;\n",
      "CREATE TABLE \"payments\" (\n",
      "\"payment_id\" INTEGER,\n",
      "  \"loan_id\" INTEGER' at line 1\n",
      "Error importing SQL dump: 1064 (42000): You have an error in your SQL syntax; check the manual that corresponds to your MySQL server version for the right syntax to use near 'TRANSACTION;\n",
      "CREATE TABLE \"transaction_data\" (\n",
      "\"transaction_id\" INTEGER,\n",
      "  \"acco' at line 1\n"
     ]
    }
   ],
   "source": [
    "import mysql.connector\n",
    "from mysql.connector import Error\n",
    "\n",
    "def import_sql_dump(db_connection, sql_file_path):\n",
    "    \n",
    "    try:\n",
    "        cursor = db_connection.cursor()\n",
    "        with open(sql_file_path, 'r') as f:\n",
    "            sql_script = f.read()\n",
    "        cursor.execute(sql_script, multi=True)\n",
    "        db_connection.commit()\n",
    "        print(f\"SQL dump imported successfully from {sql_file_path}\")\n",
    "    except Error as e:\n",
    "        print(f\"Error importing SQL dump: {e}\")\n",
    "    finally:\n",
    "        cursor.close()\n",
    "\n",
    "# Establish database connection\n",
    "db_connection = connect_to_database()\n",
    "\n",
    "# List of SQL dump files\n",
    "sql_files = [\n",
    "    r\"E:\\USER\\HP\\Desktop\\DATA ANALYTICS\\Live Project\\SQL_DUMP_FILES\\accounts_data_Dump.sql\",\n",
    "    r\"E:\\USER\\HP\\Desktop\\DATA ANALYTICS\\Live Project\\SQL_DUMP_FILES\\branches_Dump.sql\",\n",
    "    r\"E:\\USER\\HP\\Desktop\\DATA ANALYTICS\\Live Project\\SQL_DUMP_FILES\\customer_data_Dump.sql\",\n",
    "    r\"E:\\USER\\HP\\Desktop\\DATA ANALYTICS\\Live Project\\SQL_DUMP_FILES\\kyc_data_Dump.sql\",\n",
    "    r\"E:\\USER\\HP\\Desktop\\DATA ANALYTICS\\Live Project\\SQL_DUMP_FILES\\loans_Dump.sql\",\n",
    "    r\"E:\\USER\\HP\\Desktop\\DATA ANALYTICS\\Live Project\\SQL_DUMP_FILES\\payments_data_Dump.sql\",\n",
    "    r\"E:\\USER\\HP\\Desktop\\DATA ANALYTICS\\Live Project\\SQL_DUMP_FILES\\transactions_data_Dump.sql\"\n",
    "]\n",
    "\n",
    "# Import each SQL dump file\n",
    "for sql_file in sql_files:\n",
    "    import_sql_dump(db_connection, sql_file)\n",
    "\n",
    "# Close the database connection\n",
    "db_connection.close()"
   ]
  },
  {
   "cell_type": "markdown",
   "id": "1cc83717-710b-43c1-9218-f382fe577044",
   "metadata": {},
   "source": [
    "### **Exploratory Data Analysis and Data Cleaning"
   ]
  },
  {
   "cell_type": "code",
   "execution_count": 102,
   "id": "d05ef447-ff2a-4c14-a0f2-152cfb9fc7af",
   "metadata": {},
   "outputs": [],
   "source": [
    "# Importing Libraries\n",
    "import numpy as np\n",
    "import pandas as pd\n",
    "import matplotlib.pyplot as plt\n",
    "import seaborn as sns"
   ]
  },
  {
   "cell_type": "markdown",
   "id": "b7df8771-ec62-473d-9e6e-804c52a1c435",
   "metadata": {},
   "source": [
    "## **ACCOUNTS DATA**"
   ]
  },
  {
   "cell_type": "code",
   "execution_count": 103,
   "id": "c9cc4f94-ce20-41c6-b51f-7a65e0b5777f",
   "metadata": {},
   "outputs": [
    {
     "data": {
      "text/html": [
       "<div>\n",
       "<style scoped>\n",
       "    .dataframe tbody tr th:only-of-type {\n",
       "        vertical-align: middle;\n",
       "    }\n",
       "\n",
       "    .dataframe tbody tr th {\n",
       "        vertical-align: top;\n",
       "    }\n",
       "\n",
       "    .dataframe thead th {\n",
       "        text-align: right;\n",
       "    }\n",
       "</style>\n",
       "<table border=\"1\" class=\"dataframe\">\n",
       "  <thead>\n",
       "    <tr style=\"text-align: right;\">\n",
       "      <th></th>\n",
       "      <th>account_id</th>\n",
       "      <th>customer_id</th>\n",
       "      <th>branch_id</th>\n",
       "      <th>account_type</th>\n",
       "      <th>balance</th>\n",
       "    </tr>\n",
       "  </thead>\n",
       "  <tbody>\n",
       "    <tr>\n",
       "      <th>0</th>\n",
       "      <td>261.0</td>\n",
       "      <td>780.0</td>\n",
       "      <td>9.0</td>\n",
       "      <td>Savings</td>\n",
       "      <td>39823.92</td>\n",
       "    </tr>\n",
       "    <tr>\n",
       "      <th>1</th>\n",
       "      <td>NaN</td>\n",
       "      <td>NaN</td>\n",
       "      <td>NaN</td>\n",
       "      <td>Savings</td>\n",
       "      <td>29520.04</td>\n",
       "    </tr>\n",
       "    <tr>\n",
       "      <th>2</th>\n",
       "      <td>846.0</td>\n",
       "      <td>711.0</td>\n",
       "      <td>5.0</td>\n",
       "      <td>Savings</td>\n",
       "      <td>48574.25</td>\n",
       "    </tr>\n",
       "    <tr>\n",
       "      <th>3</th>\n",
       "      <td>5.0</td>\n",
       "      <td>226.0</td>\n",
       "      <td>9.0</td>\n",
       "      <td>Savings</td>\n",
       "      <td>3631.82</td>\n",
       "    </tr>\n",
       "    <tr>\n",
       "      <th>4</th>\n",
       "      <td>89.0</td>\n",
       "      <td>923.0</td>\n",
       "      <td>2.0</td>\n",
       "      <td>Current</td>\n",
       "      <td>3463.25</td>\n",
       "    </tr>\n",
       "    <tr>\n",
       "      <th>...</th>\n",
       "      <td>...</td>\n",
       "      <td>...</td>\n",
       "      <td>...</td>\n",
       "      <td>...</td>\n",
       "      <td>...</td>\n",
       "    </tr>\n",
       "    <tr>\n",
       "      <th>1049</th>\n",
       "      <td>331.0</td>\n",
       "      <td>856.0</td>\n",
       "      <td>5.0</td>\n",
       "      <td>Savings</td>\n",
       "      <td>15573.92</td>\n",
       "    </tr>\n",
       "    <tr>\n",
       "      <th>1050</th>\n",
       "      <td>467.0</td>\n",
       "      <td>246.0</td>\n",
       "      <td>10.0</td>\n",
       "      <td>Savings</td>\n",
       "      <td>1784.18</td>\n",
       "    </tr>\n",
       "    <tr>\n",
       "      <th>1051</th>\n",
       "      <td>122.0</td>\n",
       "      <td>111.0</td>\n",
       "      <td>5.0</td>\n",
       "      <td>Savings</td>\n",
       "      <td>14402.99</td>\n",
       "    </tr>\n",
       "    <tr>\n",
       "      <th>1052</th>\n",
       "      <td>982.0</td>\n",
       "      <td>784.0</td>\n",
       "      <td>3.0</td>\n",
       "      <td>Savings</td>\n",
       "      <td>22647.17</td>\n",
       "    </tr>\n",
       "    <tr>\n",
       "      <th>1053</th>\n",
       "      <td>861.0</td>\n",
       "      <td>126.0</td>\n",
       "      <td>1.0</td>\n",
       "      <td>Savings</td>\n",
       "      <td>49541.05</td>\n",
       "    </tr>\n",
       "  </tbody>\n",
       "</table>\n",
       "<p>1054 rows × 5 columns</p>\n",
       "</div>"
      ],
      "text/plain": [
       "      account_id  customer_id  branch_id account_type   balance\n",
       "0          261.0        780.0        9.0      Savings  39823.92\n",
       "1            NaN          NaN        NaN      Savings  29520.04\n",
       "2          846.0        711.0        5.0      Savings  48574.25\n",
       "3            5.0        226.0        9.0      Savings   3631.82\n",
       "4           89.0        923.0        2.0      Current   3463.25\n",
       "...          ...          ...        ...          ...       ...\n",
       "1049       331.0        856.0        5.0      Savings  15573.92\n",
       "1050       467.0        246.0       10.0      Savings   1784.18\n",
       "1051       122.0        111.0        5.0      Savings  14402.99\n",
       "1052       982.0        784.0        3.0      Savings  22647.17\n",
       "1053       861.0        126.0        1.0      Savings  49541.05\n",
       "\n",
       "[1054 rows x 5 columns]"
      ]
     },
     "execution_count": 103,
     "metadata": {},
     "output_type": "execute_result"
    }
   ],
   "source": [
    "# Read csv file\n",
    "\n",
    "accounts = pd.read_csv(\"accounts_data.csv\")\n",
    "accounts"
   ]
  },
  {
   "cell_type": "markdown",
   "id": "4de1d05f-f433-4985-b0b6-60bcc5453e49",
   "metadata": {},
   "source": [
    "### **Data Understanding"
   ]
  },
  {
   "cell_type": "code",
   "execution_count": 104,
   "id": "2911b890-55da-4bf0-9e51-8c6cdf16622a",
   "metadata": {},
   "outputs": [
    {
     "data": {
      "text/plain": [
       "(1054, 5)"
      ]
     },
     "execution_count": 104,
     "metadata": {},
     "output_type": "execute_result"
    }
   ],
   "source": [
    "# Checking number of rows and columns.\n",
    "accounts.shape"
   ]
  },
  {
   "cell_type": "code",
   "execution_count": 105,
   "id": "db4624a8-b025-417c-b8d3-07f4c58015b4",
   "metadata": {},
   "outputs": [
    {
     "data": {
      "text/plain": [
       "account_id      float64\n",
       "customer_id     float64\n",
       "branch_id       float64\n",
       "account_type     object\n",
       "balance         float64\n",
       "dtype: object"
      ]
     },
     "execution_count": 105,
     "metadata": {},
     "output_type": "execute_result"
    }
   ],
   "source": [
    "# 2. Check datatypes\n",
    "accounts.dtypes"
   ]
  },
  {
   "cell_type": "code",
   "execution_count": 106,
   "id": "1cf5a2dd-a76a-43b6-800b-cfcbf7991044",
   "metadata": {},
   "outputs": [
    {
     "data": {
      "text/html": [
       "<div>\n",
       "<style scoped>\n",
       "    .dataframe tbody tr th:only-of-type {\n",
       "        vertical-align: middle;\n",
       "    }\n",
       "\n",
       "    .dataframe tbody tr th {\n",
       "        vertical-align: top;\n",
       "    }\n",
       "\n",
       "    .dataframe thead th {\n",
       "        text-align: right;\n",
       "    }\n",
       "</style>\n",
       "<table border=\"1\" class=\"dataframe\">\n",
       "  <thead>\n",
       "    <tr style=\"text-align: right;\">\n",
       "      <th></th>\n",
       "      <th>account_id</th>\n",
       "      <th>customer_id</th>\n",
       "      <th>branch_id</th>\n",
       "      <th>account_type</th>\n",
       "      <th>balance</th>\n",
       "    </tr>\n",
       "  </thead>\n",
       "  <tbody>\n",
       "    <tr>\n",
       "      <th>0</th>\n",
       "      <td>261.0</td>\n",
       "      <td>780.0</td>\n",
       "      <td>9.0</td>\n",
       "      <td>Savings</td>\n",
       "      <td>39823.92</td>\n",
       "    </tr>\n",
       "    <tr>\n",
       "      <th>1</th>\n",
       "      <td>NaN</td>\n",
       "      <td>NaN</td>\n",
       "      <td>NaN</td>\n",
       "      <td>Savings</td>\n",
       "      <td>29520.04</td>\n",
       "    </tr>\n",
       "    <tr>\n",
       "      <th>2</th>\n",
       "      <td>846.0</td>\n",
       "      <td>711.0</td>\n",
       "      <td>5.0</td>\n",
       "      <td>Savings</td>\n",
       "      <td>48574.25</td>\n",
       "    </tr>\n",
       "    <tr>\n",
       "      <th>3</th>\n",
       "      <td>5.0</td>\n",
       "      <td>226.0</td>\n",
       "      <td>9.0</td>\n",
       "      <td>Savings</td>\n",
       "      <td>3631.82</td>\n",
       "    </tr>\n",
       "    <tr>\n",
       "      <th>4</th>\n",
       "      <td>89.0</td>\n",
       "      <td>923.0</td>\n",
       "      <td>2.0</td>\n",
       "      <td>Current</td>\n",
       "      <td>3463.25</td>\n",
       "    </tr>\n",
       "    <tr>\n",
       "      <th>5</th>\n",
       "      <td>458.0</td>\n",
       "      <td>837.0</td>\n",
       "      <td>3.0</td>\n",
       "      <td>Savings</td>\n",
       "      <td>4798.15</td>\n",
       "    </tr>\n",
       "    <tr>\n",
       "      <th>6</th>\n",
       "      <td>185.0</td>\n",
       "      <td>304.0</td>\n",
       "      <td>2.0</td>\n",
       "      <td>Current</td>\n",
       "      <td>29521.19</td>\n",
       "    </tr>\n",
       "    <tr>\n",
       "      <th>7</th>\n",
       "      <td>987.0</td>\n",
       "      <td>868.0</td>\n",
       "      <td>3.0</td>\n",
       "      <td>Savings</td>\n",
       "      <td>26621.31</td>\n",
       "    </tr>\n",
       "    <tr>\n",
       "      <th>8</th>\n",
       "      <td>368.0</td>\n",
       "      <td>222.0</td>\n",
       "      <td>6.0</td>\n",
       "      <td>Savings</td>\n",
       "      <td>14272.55</td>\n",
       "    </tr>\n",
       "    <tr>\n",
       "      <th>9</th>\n",
       "      <td>559.0</td>\n",
       "      <td>931.0</td>\n",
       "      <td>6.0</td>\n",
       "      <td>Savings</td>\n",
       "      <td>17450.31</td>\n",
       "    </tr>\n",
       "  </tbody>\n",
       "</table>\n",
       "</div>"
      ],
      "text/plain": [
       "   account_id  customer_id  branch_id account_type   balance\n",
       "0       261.0        780.0        9.0      Savings  39823.92\n",
       "1         NaN          NaN        NaN      Savings  29520.04\n",
       "2       846.0        711.0        5.0      Savings  48574.25\n",
       "3         5.0        226.0        9.0      Savings   3631.82\n",
       "4        89.0        923.0        2.0      Current   3463.25\n",
       "5       458.0        837.0        3.0      Savings   4798.15\n",
       "6       185.0        304.0        2.0      Current  29521.19\n",
       "7       987.0        868.0        3.0      Savings  26621.31\n",
       "8       368.0        222.0        6.0      Savings  14272.55\n",
       "9       559.0        931.0        6.0      Savings  17450.31"
      ]
     },
     "execution_count": 106,
     "metadata": {},
     "output_type": "execute_result"
    }
   ],
   "source": [
    "# 3. Quick overview of first 10 rows\n",
    "accounts.head(10)"
   ]
  },
  {
   "cell_type": "code",
   "execution_count": 107,
   "id": "1741de69-c48c-40c3-8722-8a5b3b13827f",
   "metadata": {},
   "outputs": [
    {
     "data": {
      "text/html": [
       "<div>\n",
       "<style scoped>\n",
       "    .dataframe tbody tr th:only-of-type {\n",
       "        vertical-align: middle;\n",
       "    }\n",
       "\n",
       "    .dataframe tbody tr th {\n",
       "        vertical-align: top;\n",
       "    }\n",
       "\n",
       "    .dataframe thead th {\n",
       "        text-align: right;\n",
       "    }\n",
       "</style>\n",
       "<table border=\"1\" class=\"dataframe\">\n",
       "  <thead>\n",
       "    <tr style=\"text-align: right;\">\n",
       "      <th></th>\n",
       "      <th>account_id</th>\n",
       "      <th>customer_id</th>\n",
       "      <th>branch_id</th>\n",
       "      <th>account_type</th>\n",
       "      <th>balance</th>\n",
       "    </tr>\n",
       "  </thead>\n",
       "  <tbody>\n",
       "    <tr>\n",
       "      <th>1044</th>\n",
       "      <td>344.0</td>\n",
       "      <td>960.0</td>\n",
       "      <td>6.0</td>\n",
       "      <td>Current</td>\n",
       "      <td>14333.09</td>\n",
       "    </tr>\n",
       "    <tr>\n",
       "      <th>1045</th>\n",
       "      <td>770.0</td>\n",
       "      <td>814.0</td>\n",
       "      <td>9.0</td>\n",
       "      <td>Savings</td>\n",
       "      <td>4391.81</td>\n",
       "    </tr>\n",
       "    <tr>\n",
       "      <th>1046</th>\n",
       "      <td>131.0</td>\n",
       "      <td>536.0</td>\n",
       "      <td>1.0</td>\n",
       "      <td>Savings</td>\n",
       "      <td>1453.33</td>\n",
       "    </tr>\n",
       "    <tr>\n",
       "      <th>1047</th>\n",
       "      <td>872.0</td>\n",
       "      <td>80.0</td>\n",
       "      <td>8.0</td>\n",
       "      <td>Current</td>\n",
       "      <td>22191.92</td>\n",
       "    </tr>\n",
       "    <tr>\n",
       "      <th>1048</th>\n",
       "      <td>88.0</td>\n",
       "      <td>179.0</td>\n",
       "      <td>5.0</td>\n",
       "      <td>Savings</td>\n",
       "      <td>13657.11</td>\n",
       "    </tr>\n",
       "    <tr>\n",
       "      <th>1049</th>\n",
       "      <td>331.0</td>\n",
       "      <td>856.0</td>\n",
       "      <td>5.0</td>\n",
       "      <td>Savings</td>\n",
       "      <td>15573.92</td>\n",
       "    </tr>\n",
       "    <tr>\n",
       "      <th>1050</th>\n",
       "      <td>467.0</td>\n",
       "      <td>246.0</td>\n",
       "      <td>10.0</td>\n",
       "      <td>Savings</td>\n",
       "      <td>1784.18</td>\n",
       "    </tr>\n",
       "    <tr>\n",
       "      <th>1051</th>\n",
       "      <td>122.0</td>\n",
       "      <td>111.0</td>\n",
       "      <td>5.0</td>\n",
       "      <td>Savings</td>\n",
       "      <td>14402.99</td>\n",
       "    </tr>\n",
       "    <tr>\n",
       "      <th>1052</th>\n",
       "      <td>982.0</td>\n",
       "      <td>784.0</td>\n",
       "      <td>3.0</td>\n",
       "      <td>Savings</td>\n",
       "      <td>22647.17</td>\n",
       "    </tr>\n",
       "    <tr>\n",
       "      <th>1053</th>\n",
       "      <td>861.0</td>\n",
       "      <td>126.0</td>\n",
       "      <td>1.0</td>\n",
       "      <td>Savings</td>\n",
       "      <td>49541.05</td>\n",
       "    </tr>\n",
       "  </tbody>\n",
       "</table>\n",
       "</div>"
      ],
      "text/plain": [
       "      account_id  customer_id  branch_id account_type   balance\n",
       "1044       344.0        960.0        6.0      Current  14333.09\n",
       "1045       770.0        814.0        9.0      Savings   4391.81\n",
       "1046       131.0        536.0        1.0      Savings   1453.33\n",
       "1047       872.0         80.0        8.0      Current  22191.92\n",
       "1048        88.0        179.0        5.0      Savings  13657.11\n",
       "1049       331.0        856.0        5.0      Savings  15573.92\n",
       "1050       467.0        246.0       10.0      Savings   1784.18\n",
       "1051       122.0        111.0        5.0      Savings  14402.99\n",
       "1052       982.0        784.0        3.0      Savings  22647.17\n",
       "1053       861.0        126.0        1.0      Savings  49541.05"
      ]
     },
     "execution_count": 107,
     "metadata": {},
     "output_type": "execute_result"
    }
   ],
   "source": [
    "# 4. Quick overview of last 10 rows\n",
    "accounts.tail(10)"
   ]
  },
  {
   "cell_type": "markdown",
   "id": "dbb41deb-9bef-4f57-9747-ebfe184c2877",
   "metadata": {},
   "source": [
    "### **Identifying Missing and duplicate values"
   ]
  },
  {
   "cell_type": "code",
   "execution_count": 108,
   "id": "9fd029a5-d3ac-490f-836c-dc48f89911d8",
   "metadata": {},
   "outputs": [
    {
     "data": {
      "text/plain": [
       "account_id      11\n",
       "customer_id     11\n",
       "branch_id       11\n",
       "account_type     0\n",
       "balance          0\n",
       "dtype: int64"
      ]
     },
     "execution_count": 108,
     "metadata": {},
     "output_type": "execute_result"
    }
   ],
   "source": [
    "accounts.isnull().sum()"
   ]
  },
  {
   "cell_type": "code",
   "execution_count": 109,
   "id": "3aea904e-6a11-4b72-9ff9-31f2043d1b18",
   "metadata": {},
   "outputs": [
    {
     "data": {
      "text/plain": [
       "43"
      ]
     },
     "execution_count": 109,
     "metadata": {},
     "output_type": "execute_result"
    }
   ],
   "source": [
    "accounts.duplicated().sum()"
   ]
  },
  {
   "cell_type": "code",
   "execution_count": 110,
   "id": "ba85c6c1-3f74-4643-9e18-4d1bb8657547",
   "metadata": {},
   "outputs": [],
   "source": [
    "accounts.dropna(inplace= True)"
   ]
  },
  {
   "cell_type": "code",
   "execution_count": 111,
   "id": "ddbe2044-dfc7-4d2f-95a5-20c3a84d46ee",
   "metadata": {},
   "outputs": [
    {
     "name": "stdout",
     "output_type": "stream",
     "text": [
      "<class 'pandas.core.frame.DataFrame'>\n",
      "Index: 1043 entries, 0 to 1053\n",
      "Data columns (total 5 columns):\n",
      " #   Column        Non-Null Count  Dtype  \n",
      "---  ------        --------------  -----  \n",
      " 0   account_id    1043 non-null   float64\n",
      " 1   customer_id   1043 non-null   float64\n",
      " 2   branch_id     1043 non-null   float64\n",
      " 3   account_type  1043 non-null   object \n",
      " 4   balance       1043 non-null   float64\n",
      "dtypes: float64(4), object(1)\n",
      "memory usage: 48.9+ KB\n"
     ]
    }
   ],
   "source": [
    "accounts.info()"
   ]
  },
  {
   "cell_type": "code",
   "execution_count": 112,
   "id": "280c640a-2288-4020-b80c-7cc00ba408e5",
   "metadata": {},
   "outputs": [
    {
     "name": "stdout",
     "output_type": "stream",
     "text": [
      "['account_id', 'customer_id', 'branch_id', 'account_type', 'balance']\n"
     ]
    }
   ],
   "source": [
    "# Identifying which columns has dupliucate values.\n",
    "duplicate_columns = []\n",
    "\n",
    "for col in accounts.columns:\n",
    "    if accounts[col].duplicated().any():\n",
    "        duplicate_columns.append(col)\n",
    "\n",
    "print(duplicate_columns)"
   ]
  },
  {
   "cell_type": "code",
   "execution_count": 113,
   "id": "dad5d0cd-ad63-4fcb-80ca-9b6518b5844c",
   "metadata": {},
   "outputs": [
    {
     "data": {
      "text/plain": [
       "account_id      1000\n",
       "customer_id      645\n",
       "branch_id         10\n",
       "account_type       2\n",
       "balance         1000\n",
       "dtype: int64"
      ]
     },
     "execution_count": 113,
     "metadata": {},
     "output_type": "execute_result"
    }
   ],
   "source": [
    "# Identifying unique values in each column\n",
    "accounts.nunique()"
   ]
  },
  {
   "cell_type": "code",
   "execution_count": 114,
   "id": "31c1ab48-afa0-4e18-9387-d1c0e3013219",
   "metadata": {},
   "outputs": [],
   "source": [
    "# Finding count of duplicates in each column of dataframe\n",
    "import pandas as pd\n",
    "\n",
    "def analyze_dataframe(df):\n",
    "\n",
    "  column_names = df.columns.tolist()\n",
    "  duplicate_counts = {}\n",
    "\n",
    "  for column in column_names:\n",
    "    duplicate_counts[column] = df[column].duplicated().sum()\n",
    "\n",
    "  return {\n",
    "      \"column_names\": column_names,\n",
    "      \"duplicate_counts\": duplicate_counts\n",
    "  }"
   ]
  },
  {
   "cell_type": "code",
   "execution_count": 115,
   "id": "3f7e0e4e-5b8e-40cb-8b35-23ed32434a4e",
   "metadata": {},
   "outputs": [
    {
     "name": "stdout",
     "output_type": "stream",
     "text": [
      "{'column_names': ['account_id', 'customer_id', 'branch_id', 'account_type', 'balance'], 'duplicate_counts': {'account_id': 43, 'customer_id': 398, 'branch_id': 1033, 'account_type': 1041, 'balance': 43}}\n"
     ]
    }
   ],
   "source": [
    "print (analyze_dataframe(accounts))"
   ]
  },
  {
   "cell_type": "code",
   "execution_count": 116,
   "id": "efde7cca-4697-4616-ba72-a6f5f78418ca",
   "metadata": {},
   "outputs": [],
   "source": [
    "# remove duplicates from customer_id\n",
    "accounts.drop_duplicates(['customer_id'], inplace= True)"
   ]
  },
  {
   "cell_type": "code",
   "execution_count": 117,
   "id": "4c817b5c-f7db-4f34-b582-ad78807d1921",
   "metadata": {},
   "outputs": [],
   "source": [
    "#remove duplicates from account_id\n",
    "accounts.drop_duplicates(['account_id'], inplace= True)"
   ]
  },
  {
   "cell_type": "code",
   "execution_count": 118,
   "id": "1a3a47fe-e259-48a0-bc62-9a5de6562c80",
   "metadata": {},
   "outputs": [
    {
     "name": "stdout",
     "output_type": "stream",
     "text": [
      "<class 'pandas.core.frame.DataFrame'>\n",
      "Index: 645 entries, 0 to 1053\n",
      "Data columns (total 5 columns):\n",
      " #   Column        Non-Null Count  Dtype  \n",
      "---  ------        --------------  -----  \n",
      " 0   account_id    645 non-null    float64\n",
      " 1   customer_id   645 non-null    float64\n",
      " 2   branch_id     645 non-null    float64\n",
      " 3   account_type  645 non-null    object \n",
      " 4   balance       645 non-null    float64\n",
      "dtypes: float64(4), object(1)\n",
      "memory usage: 30.2+ KB\n"
     ]
    }
   ],
   "source": [
    "accounts.info()"
   ]
  },
  {
   "cell_type": "code",
   "execution_count": 119,
   "id": "fbe3b32d-7a7f-4f82-8f06-d807120dc45c",
   "metadata": {},
   "outputs": [
    {
     "data": {
      "text/plain": [
       "account_id      float64\n",
       "customer_id     float64\n",
       "branch_id       float64\n",
       "account_type     object\n",
       "balance         float64\n",
       "dtype: object"
      ]
     },
     "execution_count": 119,
     "metadata": {},
     "output_type": "execute_result"
    }
   ],
   "source": [
    "# identifying data types of each column in dataframe\n",
    "accounts.dtypes"
   ]
  },
  {
   "cell_type": "code",
   "execution_count": 120,
   "id": "b09002e9-271c-45e5-aa80-e1a358ad43a2",
   "metadata": {},
   "outputs": [],
   "source": [
    "# converting datatypes\n",
    "\n",
    "accounts['account_id']= accounts['account_id'].astype (int)\n",
    "accounts['customer_id']= accounts['customer_id'].astype(int)\n",
    "accounts['branch_id']= accounts['branch_id'].astype(int)"
   ]
  },
  {
   "cell_type": "code",
   "execution_count": 121,
   "id": "cfb6cdfd-2255-49da-8b0b-c3e6be913d4a",
   "metadata": {},
   "outputs": [
    {
     "data": {
      "text/plain": [
       "account_id        int32\n",
       "customer_id       int32\n",
       "branch_id         int32\n",
       "account_type     object\n",
       "balance         float64\n",
       "dtype: object"
      ]
     },
     "execution_count": 121,
     "metadata": {},
     "output_type": "execute_result"
    }
   ],
   "source": [
    "accounts.dtypes"
   ]
  },
  {
   "cell_type": "code",
   "execution_count": 122,
   "id": "e3a4a806-e941-4b29-a9ff-6d6b034baf7e",
   "metadata": {},
   "outputs": [
    {
     "name": "stdout",
     "output_type": "stream",
     "text": [
      "<class 'pandas.core.frame.DataFrame'>\n",
      "Index: 645 entries, 0 to 1053\n",
      "Data columns (total 5 columns):\n",
      " #   Column        Non-Null Count  Dtype  \n",
      "---  ------        --------------  -----  \n",
      " 0   account_id    645 non-null    int32  \n",
      " 1   customer_id   645 non-null    int32  \n",
      " 2   branch_id     645 non-null    int32  \n",
      " 3   account_type  645 non-null    object \n",
      " 4   balance       645 non-null    float64\n",
      "dtypes: float64(1), int32(3), object(1)\n",
      "memory usage: 22.7+ KB\n"
     ]
    }
   ],
   "source": [
    "accounts.info()"
   ]
  },
  {
   "cell_type": "markdown",
   "id": "1b5dfc4c-c645-4584-9c6e-94c1623a7b65",
   "metadata": {},
   "source": [
    "## BRANCH DATA"
   ]
  },
  {
   "cell_type": "code",
   "execution_count": 123,
   "id": "bfe653e8-8c3f-44f3-aebc-b879b2b4f641",
   "metadata": {},
   "outputs": [
    {
     "data": {
      "text/html": [
       "<div>\n",
       "<style scoped>\n",
       "    .dataframe tbody tr th:only-of-type {\n",
       "        vertical-align: middle;\n",
       "    }\n",
       "\n",
       "    .dataframe tbody tr th {\n",
       "        vertical-align: top;\n",
       "    }\n",
       "\n",
       "    .dataframe thead th {\n",
       "        text-align: right;\n",
       "    }\n",
       "</style>\n",
       "<table border=\"1\" class=\"dataframe\">\n",
       "  <thead>\n",
       "    <tr style=\"text-align: right;\">\n",
       "      <th></th>\n",
       "      <th>branch_id</th>\n",
       "      <th>branch_name</th>\n",
       "      <th>branch_address</th>\n",
       "    </tr>\n",
       "  </thead>\n",
       "  <tbody>\n",
       "    <tr>\n",
       "      <th>0</th>\n",
       "      <td>1</td>\n",
       "      <td>O11r</td>\n",
       "      <td>41101P</td>\n",
       "    </tr>\n",
       "    <tr>\n",
       "      <th>1</th>\n",
       "      <td>2</td>\n",
       "      <td>N12n</td>\n",
       "      <td>41102Q</td>\n",
       "    </tr>\n",
       "    <tr>\n",
       "      <th>2</th>\n",
       "      <td>3</td>\n",
       "      <td>R13n</td>\n",
       "      <td>41103R</td>\n",
       "    </tr>\n",
       "    <tr>\n",
       "      <th>3</th>\n",
       "      <td>4</td>\n",
       "      <td>P14i</td>\n",
       "      <td>41104S</td>\n",
       "    </tr>\n",
       "    <tr>\n",
       "      <th>4</th>\n",
       "      <td>5</td>\n",
       "      <td>Y15a</td>\n",
       "      <td>41105T</td>\n",
       "    </tr>\n",
       "    <tr>\n",
       "      <th>5</th>\n",
       "      <td>6</td>\n",
       "      <td>B16a</td>\n",
       "      <td>41106U</td>\n",
       "    </tr>\n",
       "    <tr>\n",
       "      <th>6</th>\n",
       "      <td>7</td>\n",
       "      <td>R17i</td>\n",
       "      <td>41107V</td>\n",
       "    </tr>\n",
       "    <tr>\n",
       "      <th>7</th>\n",
       "      <td>8</td>\n",
       "      <td>V18a</td>\n",
       "      <td>41108W</td>\n",
       "    </tr>\n",
       "    <tr>\n",
       "      <th>8</th>\n",
       "      <td>9</td>\n",
       "      <td>S19i</td>\n",
       "      <td>41109X</td>\n",
       "    </tr>\n",
       "    <tr>\n",
       "      <th>9</th>\n",
       "      <td>10</td>\n",
       "      <td>M20i</td>\n",
       "      <td>411010Y</td>\n",
       "    </tr>\n",
       "  </tbody>\n",
       "</table>\n",
       "</div>"
      ],
      "text/plain": [
       "   branch_id branch_name branch_address\n",
       "0          1        O11r         41101P\n",
       "1          2        N12n         41102Q\n",
       "2          3        R13n         41103R\n",
       "3          4        P14i         41104S\n",
       "4          5        Y15a         41105T\n",
       "5          6        B16a         41106U\n",
       "6          7        R17i         41107V\n",
       "7          8        V18a         41108W\n",
       "8          9        S19i         41109X\n",
       "9         10        M20i        411010Y"
      ]
     },
     "execution_count": 123,
     "metadata": {},
     "output_type": "execute_result"
    }
   ],
   "source": [
    "branches = pd.read_csv(\"branches.csv\")\n",
    "branches"
   ]
  },
  {
   "cell_type": "code",
   "execution_count": 124,
   "id": "6a8bd51f-5ab9-40d4-957c-bebba2ac6da5",
   "metadata": {},
   "outputs": [
    {
     "data": {
      "text/plain": [
       "30"
      ]
     },
     "execution_count": 124,
     "metadata": {},
     "output_type": "execute_result"
    }
   ],
   "source": [
    "branches.nunique().sum()"
   ]
  },
  {
   "cell_type": "code",
   "execution_count": 125,
   "id": "9808087f-71f9-411c-8c6b-1d6214d918eb",
   "metadata": {},
   "outputs": [
    {
     "name": "stdout",
     "output_type": "stream",
     "text": [
      "<class 'pandas.core.frame.DataFrame'>\n",
      "RangeIndex: 10 entries, 0 to 9\n",
      "Data columns (total 3 columns):\n",
      " #   Column          Non-Null Count  Dtype \n",
      "---  ------          --------------  ----- \n",
      " 0   branch_id       10 non-null     int64 \n",
      " 1   branch_name     10 non-null     object\n",
      " 2   branch_address  10 non-null     object\n",
      "dtypes: int64(1), object(2)\n",
      "memory usage: 372.0+ bytes\n"
     ]
    }
   ],
   "source": [
    "branches.info()"
   ]
  },
  {
   "cell_type": "markdown",
   "id": "735f5f41-b35c-4bc6-a02e-7ee16182a7fd",
   "metadata": {},
   "source": [
    "## CUSTOMER DATA"
   ]
  },
  {
   "cell_type": "code",
   "execution_count": 126,
   "id": "85c7cc30-623e-4fd9-965a-c41af9aaf9c6",
   "metadata": {},
   "outputs": [
    {
     "data": {
      "text/html": [
       "<div>\n",
       "<style scoped>\n",
       "    .dataframe tbody tr th:only-of-type {\n",
       "        vertical-align: middle;\n",
       "    }\n",
       "\n",
       "    .dataframe tbody tr th {\n",
       "        vertical-align: top;\n",
       "    }\n",
       "\n",
       "    .dataframe thead th {\n",
       "        text-align: right;\n",
       "    }\n",
       "</style>\n",
       "<table border=\"1\" class=\"dataframe\">\n",
       "  <thead>\n",
       "    <tr style=\"text-align: right;\">\n",
       "      <th></th>\n",
       "      <th>customer_id</th>\n",
       "      <th>first_name</th>\n",
       "      <th>last_name</th>\n",
       "      <th>email</th>\n",
       "      <th>phone</th>\n",
       "      <th>address</th>\n",
       "    </tr>\n",
       "  </thead>\n",
       "  <tbody>\n",
       "    <tr>\n",
       "      <th>0</th>\n",
       "      <td>583.0</td>\n",
       "      <td>Raghav</td>\n",
       "      <td>Sane</td>\n",
       "      <td>jagdish86@example.com</td>\n",
       "      <td>9.150000e+11</td>\n",
       "      <td>570\\nDara Street, Chennai-240844</td>\n",
       "    </tr>\n",
       "    <tr>\n",
       "      <th>1</th>\n",
       "      <td>514.0</td>\n",
       "      <td>Abhiram</td>\n",
       "      <td>Suresh</td>\n",
       "      <td>abhiram46@example.net</td>\n",
       "      <td>9.180000e+11</td>\n",
       "      <td>110, Dhillon Ganj\\nFirozabad 757923</td>\n",
       "    </tr>\n",
       "    <tr>\n",
       "      <th>2</th>\n",
       "      <td>41.0</td>\n",
       "      <td>Mohini</td>\n",
       "      <td>Khare</td>\n",
       "      <td>aadisane@example.net</td>\n",
       "      <td>6.424635e+09</td>\n",
       "      <td>H.No. 072\\nMistry Nagar\\nShivpuri-529503</td>\n",
       "    </tr>\n",
       "    <tr>\n",
       "      <th>3</th>\n",
       "      <td>847.0</td>\n",
       "      <td>Avi</td>\n",
       "      <td>Lanka</td>\n",
       "      <td>mmadan@example.net</td>\n",
       "      <td>8.212147e+09</td>\n",
       "      <td>719, Karpe Ganj\\nGandhidham-140189</td>\n",
       "    </tr>\n",
       "    <tr>\n",
       "      <th>4</th>\n",
       "      <td>500.0</td>\n",
       "      <td>Azad</td>\n",
       "      <td>Ravi</td>\n",
       "      <td>bishakha09@example.org</td>\n",
       "      <td>9.190000e+11</td>\n",
       "      <td>728, Zachariah Circle, Chandrapur-478829</td>\n",
       "    </tr>\n",
       "    <tr>\n",
       "      <th>...</th>\n",
       "      <td>...</td>\n",
       "      <td>...</td>\n",
       "      <td>...</td>\n",
       "      <td>...</td>\n",
       "      <td>...</td>\n",
       "      <td>...</td>\n",
       "    </tr>\n",
       "    <tr>\n",
       "      <th>1129</th>\n",
       "      <td>559.0</td>\n",
       "      <td>Ayush</td>\n",
       "      <td>Apte</td>\n",
       "      <td>devansh87@example.net</td>\n",
       "      <td>9.529537e+09</td>\n",
       "      <td>78/44, Bhandari Marg, Mangalore-887955</td>\n",
       "    </tr>\n",
       "    <tr>\n",
       "      <th>1130</th>\n",
       "      <td>27.0</td>\n",
       "      <td>Anay</td>\n",
       "      <td>Bajaj</td>\n",
       "      <td>bahadurjit92@example.org</td>\n",
       "      <td>9.100000e+11</td>\n",
       "      <td>H.No. 61\\nVarty Zila\\nSrikakulam-922364</td>\n",
       "    </tr>\n",
       "    <tr>\n",
       "      <th>1131</th>\n",
       "      <td>700.0</td>\n",
       "      <td>Yug</td>\n",
       "      <td>Atwal</td>\n",
       "      <td>chasmum89@example.com</td>\n",
       "      <td>9.160000e+11</td>\n",
       "      <td>H.No. 71, Mall Ganj, Sri Ganganagar-873115</td>\n",
       "    </tr>\n",
       "    <tr>\n",
       "      <th>1132</th>\n",
       "      <td>646.0</td>\n",
       "      <td>Simon</td>\n",
       "      <td>Sidhu</td>\n",
       "      <td>sanaya27@example.org</td>\n",
       "      <td>3.425246e+09</td>\n",
       "      <td>H.No. 33\\nSastry, Vadodara 655911</td>\n",
       "    </tr>\n",
       "    <tr>\n",
       "      <th>1133</th>\n",
       "      <td>722.0</td>\n",
       "      <td>Charles</td>\n",
       "      <td>Arora</td>\n",
       "      <td>ishwarkari@example.com</td>\n",
       "      <td>9.120000e+11</td>\n",
       "      <td>997\\nChoudhry Road, Chennai 286959</td>\n",
       "    </tr>\n",
       "  </tbody>\n",
       "</table>\n",
       "<p>1134 rows × 6 columns</p>\n",
       "</div>"
      ],
      "text/plain": [
       "      customer_id first_name last_name                     email  \\\n",
       "0           583.0     Raghav      Sane     jagdish86@example.com   \n",
       "1           514.0    Abhiram    Suresh     abhiram46@example.net   \n",
       "2            41.0     Mohini     Khare      aadisane@example.net   \n",
       "3           847.0        Avi     Lanka        mmadan@example.net   \n",
       "4           500.0       Azad      Ravi    bishakha09@example.org   \n",
       "...           ...        ...       ...                       ...   \n",
       "1129        559.0      Ayush      Apte     devansh87@example.net   \n",
       "1130         27.0       Anay     Bajaj  bahadurjit92@example.org   \n",
       "1131        700.0        Yug     Atwal     chasmum89@example.com   \n",
       "1132        646.0      Simon     Sidhu      sanaya27@example.org   \n",
       "1133        722.0    Charles     Arora    ishwarkari@example.com   \n",
       "\n",
       "             phone                                     address  \n",
       "0     9.150000e+11            570\\nDara Street, Chennai-240844  \n",
       "1     9.180000e+11         110, Dhillon Ganj\\nFirozabad 757923  \n",
       "2     6.424635e+09    H.No. 072\\nMistry Nagar\\nShivpuri-529503  \n",
       "3     8.212147e+09          719, Karpe Ganj\\nGandhidham-140189  \n",
       "4     9.190000e+11    728, Zachariah Circle, Chandrapur-478829  \n",
       "...            ...                                         ...  \n",
       "1129  9.529537e+09      78/44, Bhandari Marg, Mangalore-887955  \n",
       "1130  9.100000e+11     H.No. 61\\nVarty Zila\\nSrikakulam-922364  \n",
       "1131  9.160000e+11  H.No. 71, Mall Ganj, Sri Ganganagar-873115  \n",
       "1132  3.425246e+09           H.No. 33\\nSastry, Vadodara 655911  \n",
       "1133  9.120000e+11          997\\nChoudhry Road, Chennai 286959  \n",
       "\n",
       "[1134 rows x 6 columns]"
      ]
     },
     "execution_count": 126,
     "metadata": {},
     "output_type": "execute_result"
    }
   ],
   "source": [
    "# Read customer dataset file\n",
    "customers = pd.read_csv (\"customer_data.csv\")\n",
    "customers"
   ]
  },
  {
   "cell_type": "code",
   "execution_count": 127,
   "id": "25877b22-115b-45dd-869c-7e05c7157561",
   "metadata": {},
   "outputs": [
    {
     "name": "stdout",
     "output_type": "stream",
     "text": [
      "<class 'pandas.core.frame.DataFrame'>\n",
      "RangeIndex: 1134 entries, 0 to 1133\n",
      "Data columns (total 6 columns):\n",
      " #   Column       Non-Null Count  Dtype  \n",
      "---  ------       --------------  -----  \n",
      " 0   customer_id  1124 non-null   float64\n",
      " 1   first_name   1132 non-null   object \n",
      " 2   last_name    1127 non-null   object \n",
      " 3   email        1119 non-null   object \n",
      " 4   phone        1129 non-null   float64\n",
      " 5   address      1123 non-null   object \n",
      "dtypes: float64(2), object(4)\n",
      "memory usage: 53.3+ KB\n"
     ]
    }
   ],
   "source": [
    "# Checking null values and datatype\n",
    "customers.info()"
   ]
  },
  {
   "cell_type": "code",
   "execution_count": 128,
   "id": "4c003166-e5b7-42ca-8427-6c1f00199275",
   "metadata": {},
   "outputs": [
    {
     "data": {
      "text/plain": [
       "customer_id    10\n",
       "first_name      2\n",
       "last_name       7\n",
       "email          15\n",
       "phone           5\n",
       "address        11\n",
       "dtype: int64"
      ]
     },
     "execution_count": 128,
     "metadata": {},
     "output_type": "execute_result"
    }
   ],
   "source": [
    "#Checking count of null values\n",
    "customers.isnull().sum()"
   ]
  },
  {
   "cell_type": "code",
   "execution_count": 129,
   "id": "b86fd564-6373-4919-9a61-c4c33e12903b",
   "metadata": {},
   "outputs": [],
   "source": [
    "#Removing null values\n",
    "customers.dropna(inplace = True)"
   ]
  },
  {
   "cell_type": "code",
   "execution_count": 130,
   "id": "96ba0233-7253-4025-8b4c-5d4002f41113",
   "metadata": {},
   "outputs": [
    {
     "name": "stdout",
     "output_type": "stream",
     "text": [
      "<class 'pandas.core.frame.DataFrame'>\n",
      "Index: 1119 entries, 0 to 1133\n",
      "Data columns (total 6 columns):\n",
      " #   Column       Non-Null Count  Dtype  \n",
      "---  ------       --------------  -----  \n",
      " 0   customer_id  1119 non-null   float64\n",
      " 1   first_name   1119 non-null   object \n",
      " 2   last_name    1119 non-null   object \n",
      " 3   email        1119 non-null   object \n",
      " 4   phone        1119 non-null   float64\n",
      " 5   address      1119 non-null   object \n",
      "dtypes: float64(2), object(4)\n",
      "memory usage: 61.2+ KB\n"
     ]
    }
   ],
   "source": [
    "# Checking null count after removing the same\n",
    "customers.info()"
   ]
  },
  {
   "cell_type": "code",
   "execution_count": 131,
   "id": "fd71947f-65d9-4ba6-adc2-e3d08b93c23a",
   "metadata": {},
   "outputs": [
    {
     "data": {
      "text/plain": [
       "119"
      ]
     },
     "execution_count": 131,
     "metadata": {},
     "output_type": "execute_result"
    }
   ],
   "source": [
    "# Identifying duplicates\n",
    "customers.duplicated().sum()"
   ]
  },
  {
   "cell_type": "code",
   "execution_count": 132,
   "id": "7bff6302-df0b-4c6f-95a8-7f7fd0ced032",
   "metadata": {},
   "outputs": [
    {
     "name": "stdout",
     "output_type": "stream",
     "text": [
      "{'column_names': ['customer_id', 'first_name', 'last_name', 'email', 'phone', 'address'], 'duplicate_counts': {'customer_id': 119, 'first_name': 662, 'last_name': 675, 'email': 119, 'phone': 478, 'address': 119}}\n"
     ]
    }
   ],
   "source": [
    "# Identying duplicates from each column of the dataframe\n",
    "print(analyze_dataframe(customers))"
   ]
  },
  {
   "cell_type": "code",
   "execution_count": 133,
   "id": "df4fc73c-29db-43da-8141-a1e21fd0d79d",
   "metadata": {},
   "outputs": [],
   "source": [
    "# Dropping duplicates from necessary columns\n",
    "customers.drop_duplicates(['customer_id'], inplace = True)\n",
    "customers.drop_duplicates(['email'], inplace = True)\n",
    "customers.drop_duplicates(['address'], inplace = True)"
   ]
  },
  {
   "cell_type": "code",
   "execution_count": 134,
   "id": "671f7e0d-632f-4761-ba19-f8813c0f7747",
   "metadata": {},
   "outputs": [
    {
     "name": "stdout",
     "output_type": "stream",
     "text": [
      "<class 'pandas.core.frame.DataFrame'>\n",
      "Index: 1000 entries, 0 to 1132\n",
      "Data columns (total 6 columns):\n",
      " #   Column       Non-Null Count  Dtype  \n",
      "---  ------       --------------  -----  \n",
      " 0   customer_id  1000 non-null   float64\n",
      " 1   first_name   1000 non-null   object \n",
      " 2   last_name    1000 non-null   object \n",
      " 3   email        1000 non-null   object \n",
      " 4   phone        1000 non-null   float64\n",
      " 5   address      1000 non-null   object \n",
      "dtypes: float64(2), object(4)\n",
      "memory usage: 54.7+ KB\n"
     ]
    }
   ],
   "source": [
    "#Checking data after removing duplicates\n",
    "customers.info()"
   ]
  },
  {
   "cell_type": "code",
   "execution_count": 135,
   "id": "d8ca36e0-0ef9-43bb-abc4-0000712b47c2",
   "metadata": {},
   "outputs": [],
   "source": [
    "# Converting datatype float to integer\n",
    "customers[\"customer_id\"]= customers[\"customer_id\"].astype (int)"
   ]
  },
  {
   "cell_type": "code",
   "execution_count": 136,
   "id": "851a003f-ef4b-43b9-8d43-fe4b6b7a8e66",
   "metadata": {},
   "outputs": [],
   "source": [
    "# Removing unnecessary columns\n",
    "customers.drop([\"phone\"], axis=1, inplace= True)"
   ]
  },
  {
   "cell_type": "code",
   "execution_count": 137,
   "id": "be7067b9-34ba-47ca-9024-c86dc66a672a",
   "metadata": {},
   "outputs": [
    {
     "name": "stdout",
     "output_type": "stream",
     "text": [
      "<class 'pandas.core.frame.DataFrame'>\n",
      "Index: 1000 entries, 0 to 1132\n",
      "Data columns (total 5 columns):\n",
      " #   Column       Non-Null Count  Dtype \n",
      "---  ------       --------------  ----- \n",
      " 0   customer_id  1000 non-null   int32 \n",
      " 1   first_name   1000 non-null   object\n",
      " 2   last_name    1000 non-null   object\n",
      " 3   email        1000 non-null   object\n",
      " 4   address      1000 non-null   object\n",
      "dtypes: int32(1), object(4)\n",
      "memory usage: 43.0+ KB\n"
     ]
    }
   ],
   "source": [
    "customers.info()"
   ]
  },
  {
   "cell_type": "markdown",
   "id": "5e36752a-aae0-4a44-9d67-e76a96c34637",
   "metadata": {},
   "source": [
    "## KYC DATASET"
   ]
  },
  {
   "cell_type": "code",
   "execution_count": 138,
   "id": "079aeba7-0c4a-482f-a179-f8427387e30f",
   "metadata": {},
   "outputs": [
    {
     "data": {
      "text/html": [
       "<div>\n",
       "<style scoped>\n",
       "    .dataframe tbody tr th:only-of-type {\n",
       "        vertical-align: middle;\n",
       "    }\n",
       "\n",
       "    .dataframe tbody tr th {\n",
       "        vertical-align: top;\n",
       "    }\n",
       "\n",
       "    .dataframe thead th {\n",
       "        text-align: right;\n",
       "    }\n",
       "</style>\n",
       "<table border=\"1\" class=\"dataframe\">\n",
       "  <thead>\n",
       "    <tr style=\"text-align: right;\">\n",
       "      <th></th>\n",
       "      <th>kyc_id</th>\n",
       "      <th>customer_id</th>\n",
       "      <th>aadhaar_number</th>\n",
       "      <th>kyc_status</th>\n",
       "    </tr>\n",
       "  </thead>\n",
       "  <tbody>\n",
       "    <tr>\n",
       "      <th>0</th>\n",
       "      <td>1</td>\n",
       "      <td>470</td>\n",
       "      <td>8.025030e+11</td>\n",
       "      <td>Pending</td>\n",
       "    </tr>\n",
       "    <tr>\n",
       "      <th>1</th>\n",
       "      <td>2</td>\n",
       "      <td>527</td>\n",
       "      <td>3.686020e+10</td>\n",
       "      <td>Completed</td>\n",
       "    </tr>\n",
       "    <tr>\n",
       "      <th>2</th>\n",
       "      <td>3</td>\n",
       "      <td>909</td>\n",
       "      <td>3.430880e+11</td>\n",
       "      <td>Completed</td>\n",
       "    </tr>\n",
       "    <tr>\n",
       "      <th>3</th>\n",
       "      <td>4</td>\n",
       "      <td>707</td>\n",
       "      <td>3.906300e+11</td>\n",
       "      <td>Completed</td>\n",
       "    </tr>\n",
       "    <tr>\n",
       "      <th>4</th>\n",
       "      <td>5</td>\n",
       "      <td>537</td>\n",
       "      <td>8.604680e+11</td>\n",
       "      <td>Pending</td>\n",
       "    </tr>\n",
       "    <tr>\n",
       "      <th>...</th>\n",
       "      <td>...</td>\n",
       "      <td>...</td>\n",
       "      <td>...</td>\n",
       "      <td>...</td>\n",
       "    </tr>\n",
       "    <tr>\n",
       "      <th>495</th>\n",
       "      <td>496</td>\n",
       "      <td>714</td>\n",
       "      <td>3.902780e+11</td>\n",
       "      <td>Completed</td>\n",
       "    </tr>\n",
       "    <tr>\n",
       "      <th>496</th>\n",
       "      <td>497</td>\n",
       "      <td>706</td>\n",
       "      <td>9.670400e+11</td>\n",
       "      <td>Under Review</td>\n",
       "    </tr>\n",
       "    <tr>\n",
       "      <th>497</th>\n",
       "      <td>498</td>\n",
       "      <td>234</td>\n",
       "      <td>9.547240e+11</td>\n",
       "      <td>Pending</td>\n",
       "    </tr>\n",
       "    <tr>\n",
       "      <th>498</th>\n",
       "      <td>499</td>\n",
       "      <td>637</td>\n",
       "      <td>8.206750e+11</td>\n",
       "      <td>Under Review</td>\n",
       "    </tr>\n",
       "    <tr>\n",
       "      <th>499</th>\n",
       "      <td>500</td>\n",
       "      <td>74</td>\n",
       "      <td>6.220010e+11</td>\n",
       "      <td>Pending</td>\n",
       "    </tr>\n",
       "  </tbody>\n",
       "</table>\n",
       "<p>500 rows × 4 columns</p>\n",
       "</div>"
      ],
      "text/plain": [
       "     kyc_id  customer_id  aadhaar_number    kyc_status\n",
       "0         1          470    8.025030e+11       Pending\n",
       "1         2          527    3.686020e+10     Completed\n",
       "2         3          909    3.430880e+11     Completed\n",
       "3         4          707    3.906300e+11     Completed\n",
       "4         5          537    8.604680e+11       Pending\n",
       "..      ...          ...             ...           ...\n",
       "495     496          714    3.902780e+11     Completed\n",
       "496     497          706    9.670400e+11  Under Review\n",
       "497     498          234    9.547240e+11       Pending\n",
       "498     499          637    8.206750e+11  Under Review\n",
       "499     500           74    6.220010e+11       Pending\n",
       "\n",
       "[500 rows x 4 columns]"
      ]
     },
     "execution_count": 138,
     "metadata": {},
     "output_type": "execute_result"
    }
   ],
   "source": [
    "# Read file\n",
    "\n",
    "kyc = pd.read_csv(\"kyc_data.csv\")\n",
    "kyc"
   ]
  },
  {
   "cell_type": "code",
   "execution_count": 139,
   "id": "2aad8bce-b9e5-4f6a-b18f-7d57d2c6ff16",
   "metadata": {},
   "outputs": [
    {
     "name": "stdout",
     "output_type": "stream",
     "text": [
      "<class 'pandas.core.frame.DataFrame'>\n",
      "RangeIndex: 500 entries, 0 to 499\n",
      "Data columns (total 4 columns):\n",
      " #   Column          Non-Null Count  Dtype  \n",
      "---  ------          --------------  -----  \n",
      " 0   kyc_id          500 non-null    int64  \n",
      " 1   customer_id     500 non-null    int64  \n",
      " 2   aadhaar_number  500 non-null    float64\n",
      " 3   kyc_status      500 non-null    object \n",
      "dtypes: float64(1), int64(2), object(1)\n",
      "memory usage: 15.8+ KB\n"
     ]
    }
   ],
   "source": [
    "kyc.info()"
   ]
  },
  {
   "cell_type": "code",
   "execution_count": 140,
   "id": "cd727a02-af65-40a6-9f85-54fde3adc0da",
   "metadata": {},
   "outputs": [
    {
     "data": {
      "text/plain": [
       "kyc_id            0\n",
       "customer_id       0\n",
       "aadhaar_number    0\n",
       "kyc_status        0\n",
       "dtype: int64"
      ]
     },
     "execution_count": 140,
     "metadata": {},
     "output_type": "execute_result"
    }
   ],
   "source": [
    "kyc.isnull().sum()"
   ]
  },
  {
   "cell_type": "code",
   "execution_count": 141,
   "id": "dff6471f-4a3e-4046-83f8-ebe9ea5b2040",
   "metadata": {},
   "outputs": [
    {
     "data": {
      "text/plain": [
       "0"
      ]
     },
     "execution_count": 141,
     "metadata": {},
     "output_type": "execute_result"
    }
   ],
   "source": [
    "kyc.duplicated().sum()"
   ]
  },
  {
   "cell_type": "code",
   "execution_count": 142,
   "id": "a69add5d-4c11-4a49-959c-6e2b8f3dd71c",
   "metadata": {},
   "outputs": [
    {
     "name": "stdout",
     "output_type": "stream",
     "text": [
      "{'column_names': ['kyc_id', 'customer_id', 'aadhaar_number', 'kyc_status'], 'duplicate_counts': {'kyc_id': 0, 'customer_id': 0, 'aadhaar_number': 0, 'kyc_status': 497}}\n"
     ]
    }
   ],
   "source": [
    "print(analyze_dataframe(kyc))"
   ]
  },
  {
   "cell_type": "code",
   "execution_count": 143,
   "id": "deffaa6b-32bb-443b-aa1b-7279bfd51e17",
   "metadata": {},
   "outputs": [],
   "source": [
    "kyc.drop([\"aadhaar_number\"], axis=1, inplace= True)"
   ]
  },
  {
   "cell_type": "code",
   "execution_count": 144,
   "id": "f8b74fa7-b12c-4391-b605-42760940d691",
   "metadata": {},
   "outputs": [
    {
     "name": "stdout",
     "output_type": "stream",
     "text": [
      "<class 'pandas.core.frame.DataFrame'>\n",
      "RangeIndex: 500 entries, 0 to 499\n",
      "Data columns (total 3 columns):\n",
      " #   Column       Non-Null Count  Dtype \n",
      "---  ------       --------------  ----- \n",
      " 0   kyc_id       500 non-null    int64 \n",
      " 1   customer_id  500 non-null    int64 \n",
      " 2   kyc_status   500 non-null    object\n",
      "dtypes: int64(2), object(1)\n",
      "memory usage: 11.8+ KB\n"
     ]
    }
   ],
   "source": [
    "kyc.info()"
   ]
  },
  {
   "cell_type": "markdown",
   "id": "d2284448-aec2-4c04-b3ca-ade9fa0c4b23",
   "metadata": {},
   "source": [
    "## LOANS DATASET"
   ]
  },
  {
   "cell_type": "code",
   "execution_count": 145,
   "id": "a813d837-d5ac-41f0-b630-103eca1043b6",
   "metadata": {},
   "outputs": [
    {
     "data": {
      "text/html": [
       "<div>\n",
       "<style scoped>\n",
       "    .dataframe tbody tr th:only-of-type {\n",
       "        vertical-align: middle;\n",
       "    }\n",
       "\n",
       "    .dataframe tbody tr th {\n",
       "        vertical-align: top;\n",
       "    }\n",
       "\n",
       "    .dataframe thead th {\n",
       "        text-align: right;\n",
       "    }\n",
       "</style>\n",
       "<table border=\"1\" class=\"dataframe\">\n",
       "  <thead>\n",
       "    <tr style=\"text-align: right;\">\n",
       "      <th></th>\n",
       "      <th>loan_id</th>\n",
       "      <th>customer_id</th>\n",
       "      <th>loan_type</th>\n",
       "      <th>loan_amount</th>\n",
       "      <th>interest_rate</th>\n",
       "      <th>loan_status</th>\n",
       "    </tr>\n",
       "  </thead>\n",
       "  <tbody>\n",
       "    <tr>\n",
       "      <th>0</th>\n",
       "      <td>41.0</td>\n",
       "      <td>46.0</td>\n",
       "      <td>Auto</td>\n",
       "      <td>33255.74</td>\n",
       "      <td>9.49</td>\n",
       "      <td>Closed</td>\n",
       "    </tr>\n",
       "    <tr>\n",
       "      <th>1</th>\n",
       "      <td>26.0</td>\n",
       "      <td>830.0</td>\n",
       "      <td>Auto</td>\n",
       "      <td>321873.96</td>\n",
       "      <td>6.22</td>\n",
       "      <td>Active</td>\n",
       "    </tr>\n",
       "    <tr>\n",
       "      <th>2</th>\n",
       "      <td>235.0</td>\n",
       "      <td>134.0</td>\n",
       "      <td>Home</td>\n",
       "      <td>44524.99</td>\n",
       "      <td>5.59</td>\n",
       "      <td>Closed</td>\n",
       "    </tr>\n",
       "    <tr>\n",
       "      <th>3</th>\n",
       "      <td>27.0</td>\n",
       "      <td>529.0</td>\n",
       "      <td>Personal</td>\n",
       "      <td>411853.83</td>\n",
       "      <td>5.52</td>\n",
       "      <td>Active</td>\n",
       "    </tr>\n",
       "    <tr>\n",
       "      <th>4</th>\n",
       "      <td>486.0</td>\n",
       "      <td>354.0</td>\n",
       "      <td>Auto</td>\n",
       "      <td>414024.48</td>\n",
       "      <td>8.75</td>\n",
       "      <td>Closed</td>\n",
       "    </tr>\n",
       "    <tr>\n",
       "      <th>...</th>\n",
       "      <td>...</td>\n",
       "      <td>...</td>\n",
       "      <td>...</td>\n",
       "      <td>...</td>\n",
       "      <td>...</td>\n",
       "      <td>...</td>\n",
       "    </tr>\n",
       "    <tr>\n",
       "      <th>559</th>\n",
       "      <td>72.0</td>\n",
       "      <td>887.0</td>\n",
       "      <td>Auto</td>\n",
       "      <td>484274.04</td>\n",
       "      <td>6.32</td>\n",
       "      <td>Active</td>\n",
       "    </tr>\n",
       "    <tr>\n",
       "      <th>560</th>\n",
       "      <td>107.0</td>\n",
       "      <td>670.0</td>\n",
       "      <td>Personal</td>\n",
       "      <td>488043.14</td>\n",
       "      <td>8.54</td>\n",
       "      <td>Closed</td>\n",
       "    </tr>\n",
       "    <tr>\n",
       "      <th>561</th>\n",
       "      <td>271.0</td>\n",
       "      <td>183.0</td>\n",
       "      <td>Home</td>\n",
       "      <td>243649.75</td>\n",
       "      <td>9.06</td>\n",
       "      <td>Closed</td>\n",
       "    </tr>\n",
       "    <tr>\n",
       "      <th>562</th>\n",
       "      <td>436.0</td>\n",
       "      <td>504.0</td>\n",
       "      <td>Personal</td>\n",
       "      <td>314972.12</td>\n",
       "      <td>8.46</td>\n",
       "      <td>Closed</td>\n",
       "    </tr>\n",
       "    <tr>\n",
       "      <th>563</th>\n",
       "      <td>103.0</td>\n",
       "      <td>853.0</td>\n",
       "      <td>Auto</td>\n",
       "      <td>233355.73</td>\n",
       "      <td>9.72</td>\n",
       "      <td>Closed</td>\n",
       "    </tr>\n",
       "  </tbody>\n",
       "</table>\n",
       "<p>564 rows × 6 columns</p>\n",
       "</div>"
      ],
      "text/plain": [
       "     loan_id  customer_id loan_type  loan_amount  interest_rate loan_status\n",
       "0       41.0         46.0      Auto     33255.74           9.49      Closed\n",
       "1       26.0        830.0      Auto    321873.96           6.22      Active\n",
       "2      235.0        134.0      Home     44524.99           5.59      Closed\n",
       "3       27.0        529.0  Personal    411853.83           5.52      Active\n",
       "4      486.0        354.0      Auto    414024.48           8.75      Closed\n",
       "..       ...          ...       ...          ...            ...         ...\n",
       "559     72.0        887.0      Auto    484274.04           6.32      Active\n",
       "560    107.0        670.0  Personal    488043.14           8.54      Closed\n",
       "561    271.0        183.0      Home    243649.75           9.06      Closed\n",
       "562    436.0        504.0  Personal    314972.12           8.46      Closed\n",
       "563    103.0        853.0      Auto    233355.73           9.72      Closed\n",
       "\n",
       "[564 rows x 6 columns]"
      ]
     },
     "execution_count": 145,
     "metadata": {},
     "output_type": "execute_result"
    }
   ],
   "source": [
    "# Read csv file\n",
    "\n",
    "loans = pd.read_csv (\"loans.csv\")\n",
    "loans"
   ]
  },
  {
   "cell_type": "code",
   "execution_count": 146,
   "id": "2736651b-638e-499d-a162-73e2cd3244a6",
   "metadata": {},
   "outputs": [
    {
     "name": "stdout",
     "output_type": "stream",
     "text": [
      "<class 'pandas.core.frame.DataFrame'>\n",
      "RangeIndex: 564 entries, 0 to 563\n",
      "Data columns (total 6 columns):\n",
      " #   Column         Non-Null Count  Dtype  \n",
      "---  ------         --------------  -----  \n",
      " 0   loan_id        550 non-null    float64\n",
      " 1   customer_id    549 non-null    float64\n",
      " 2   loan_type      561 non-null    object \n",
      " 3   loan_amount    564 non-null    float64\n",
      " 4   interest_rate  549 non-null    float64\n",
      " 5   loan_status    563 non-null    object \n",
      "dtypes: float64(4), object(2)\n",
      "memory usage: 26.6+ KB\n"
     ]
    }
   ],
   "source": [
    "loans.info()"
   ]
  },
  {
   "cell_type": "code",
   "execution_count": 147,
   "id": "d1143c0f-4715-46ae-9fa8-de866592cbfa",
   "metadata": {},
   "outputs": [
    {
     "data": {
      "text/plain": [
       "loan_id          14\n",
       "customer_id      15\n",
       "loan_type         3\n",
       "loan_amount       0\n",
       "interest_rate    15\n",
       "loan_status       1\n",
       "dtype: int64"
      ]
     },
     "execution_count": 147,
     "metadata": {},
     "output_type": "execute_result"
    }
   ],
   "source": [
    "loans.isnull().sum()"
   ]
  },
  {
   "cell_type": "code",
   "execution_count": 148,
   "id": "056ca8b8-65da-46fa-9d09-c3d765b780e0",
   "metadata": {},
   "outputs": [],
   "source": [
    "loans.dropna(inplace= True)"
   ]
  },
  {
   "cell_type": "code",
   "execution_count": 149,
   "id": "f2558246-20c1-441c-bf4b-351dfc12c60d",
   "metadata": {},
   "outputs": [
    {
     "data": {
      "text/plain": [
       "49"
      ]
     },
     "execution_count": 149,
     "metadata": {},
     "output_type": "execute_result"
    }
   ],
   "source": [
    "loans.duplicated().sum()"
   ]
  },
  {
   "cell_type": "code",
   "execution_count": 150,
   "id": "a9a65dfa-7544-4b95-85da-1c12998d56c3",
   "metadata": {},
   "outputs": [
    {
     "name": "stdout",
     "output_type": "stream",
     "text": [
      "{'column_names': ['loan_id', 'customer_id', 'loan_type', 'loan_amount', 'interest_rate', 'loan_status'], 'duplicate_counts': {'loan_id': 49, 'customer_id': 154, 'loan_type': 546, 'loan_amount': 49, 'interest_rate': 228, 'loan_status': 547}}\n"
     ]
    }
   ],
   "source": [
    "print(analyze_dataframe(loans))"
   ]
  },
  {
   "cell_type": "code",
   "execution_count": 151,
   "id": "c940e343-b778-4ee2-acd4-01f8254ee433",
   "metadata": {},
   "outputs": [],
   "source": [
    "loans.drop_duplicates(['loan_id'], inplace = True)"
   ]
  },
  {
   "cell_type": "code",
   "execution_count": 152,
   "id": "ffcc121f-b1c3-4e0b-bda5-8b20c4e93963",
   "metadata": {},
   "outputs": [],
   "source": [
    "loans[\"loan_id\"]= loans[\"loan_id\"].astype (int)\n",
    "loans[\"customer_id\"]= loans [\"customer_id\"].astype(int)"
   ]
  },
  {
   "cell_type": "code",
   "execution_count": 153,
   "id": "e735e555-613e-4cbd-8164-6ec737baf217",
   "metadata": {},
   "outputs": [
    {
     "name": "stdout",
     "output_type": "stream",
     "text": [
      "<class 'pandas.core.frame.DataFrame'>\n",
      "Index: 500 entries, 0 to 563\n",
      "Data columns (total 6 columns):\n",
      " #   Column         Non-Null Count  Dtype  \n",
      "---  ------         --------------  -----  \n",
      " 0   loan_id        500 non-null    int32  \n",
      " 1   customer_id    500 non-null    int32  \n",
      " 2   loan_type      500 non-null    object \n",
      " 3   loan_amount    500 non-null    float64\n",
      " 4   interest_rate  500 non-null    float64\n",
      " 5   loan_status    500 non-null    object \n",
      "dtypes: float64(2), int32(2), object(2)\n",
      "memory usage: 23.4+ KB\n"
     ]
    }
   ],
   "source": [
    "loans.info()"
   ]
  },
  {
   "cell_type": "markdown",
   "id": "176ad6e6-24de-4498-b39b-ffaea419205e",
   "metadata": {},
   "source": [
    "## PAYMENTS DATASET"
   ]
  },
  {
   "cell_type": "code",
   "execution_count": 154,
   "id": "27d57aab-03ef-4bf6-9d27-2fad227ef5f6",
   "metadata": {},
   "outputs": [
    {
     "data": {
      "text/html": [
       "<div>\n",
       "<style scoped>\n",
       "    .dataframe tbody tr th:only-of-type {\n",
       "        vertical-align: middle;\n",
       "    }\n",
       "\n",
       "    .dataframe tbody tr th {\n",
       "        vertical-align: top;\n",
       "    }\n",
       "\n",
       "    .dataframe thead th {\n",
       "        text-align: right;\n",
       "    }\n",
       "</style>\n",
       "<table border=\"1\" class=\"dataframe\">\n",
       "  <thead>\n",
       "    <tr style=\"text-align: right;\">\n",
       "      <th></th>\n",
       "      <th>payment_id</th>\n",
       "      <th>loan_id</th>\n",
       "      <th>payment_amount</th>\n",
       "    </tr>\n",
       "  </thead>\n",
       "  <tbody>\n",
       "    <tr>\n",
       "      <th>0</th>\n",
       "      <td>1</td>\n",
       "      <td>146</td>\n",
       "      <td>4173.75</td>\n",
       "    </tr>\n",
       "    <tr>\n",
       "      <th>1</th>\n",
       "      <td>2</td>\n",
       "      <td>83</td>\n",
       "      <td>4760.15</td>\n",
       "    </tr>\n",
       "    <tr>\n",
       "      <th>2</th>\n",
       "      <td>3</td>\n",
       "      <td>148</td>\n",
       "      <td>2155.38</td>\n",
       "    </tr>\n",
       "    <tr>\n",
       "      <th>3</th>\n",
       "      <td>4</td>\n",
       "      <td>36</td>\n",
       "      <td>1231.63</td>\n",
       "    </tr>\n",
       "    <tr>\n",
       "      <th>4</th>\n",
       "      <td>5</td>\n",
       "      <td>367</td>\n",
       "      <td>1019.98</td>\n",
       "    </tr>\n",
       "    <tr>\n",
       "      <th>...</th>\n",
       "      <td>...</td>\n",
       "      <td>...</td>\n",
       "      <td>...</td>\n",
       "    </tr>\n",
       "    <tr>\n",
       "      <th>1995</th>\n",
       "      <td>1996</td>\n",
       "      <td>421</td>\n",
       "      <td>2593.86</td>\n",
       "    </tr>\n",
       "    <tr>\n",
       "      <th>1996</th>\n",
       "      <td>1997</td>\n",
       "      <td>263</td>\n",
       "      <td>4460.65</td>\n",
       "    </tr>\n",
       "    <tr>\n",
       "      <th>1997</th>\n",
       "      <td>1998</td>\n",
       "      <td>304</td>\n",
       "      <td>2864.80</td>\n",
       "    </tr>\n",
       "    <tr>\n",
       "      <th>1998</th>\n",
       "      <td>1999</td>\n",
       "      <td>334</td>\n",
       "      <td>3719.09</td>\n",
       "    </tr>\n",
       "    <tr>\n",
       "      <th>1999</th>\n",
       "      <td>2000</td>\n",
       "      <td>446</td>\n",
       "      <td>4111.36</td>\n",
       "    </tr>\n",
       "  </tbody>\n",
       "</table>\n",
       "<p>2000 rows × 3 columns</p>\n",
       "</div>"
      ],
      "text/plain": [
       "      payment_id  loan_id  payment_amount\n",
       "0              1      146         4173.75\n",
       "1              2       83         4760.15\n",
       "2              3      148         2155.38\n",
       "3              4       36         1231.63\n",
       "4              5      367         1019.98\n",
       "...          ...      ...             ...\n",
       "1995        1996      421         2593.86\n",
       "1996        1997      263         4460.65\n",
       "1997        1998      304         2864.80\n",
       "1998        1999      334         3719.09\n",
       "1999        2000      446         4111.36\n",
       "\n",
       "[2000 rows x 3 columns]"
      ]
     },
     "execution_count": 154,
     "metadata": {},
     "output_type": "execute_result"
    }
   ],
   "source": [
    "# Load csv files\n",
    "\n",
    "payments = pd.read_csv(\"payments_data.csv\")\n",
    "payments"
   ]
  },
  {
   "cell_type": "code",
   "execution_count": 155,
   "id": "f005aafd-9f03-4835-bd50-0f28bb724d87",
   "metadata": {},
   "outputs": [
    {
     "name": "stdout",
     "output_type": "stream",
     "text": [
      "<class 'pandas.core.frame.DataFrame'>\n",
      "RangeIndex: 2000 entries, 0 to 1999\n",
      "Data columns (total 3 columns):\n",
      " #   Column          Non-Null Count  Dtype  \n",
      "---  ------          --------------  -----  \n",
      " 0   payment_id      2000 non-null   int64  \n",
      " 1   loan_id         2000 non-null   int64  \n",
      " 2   payment_amount  2000 non-null   float64\n",
      "dtypes: float64(1), int64(2)\n",
      "memory usage: 47.0 KB\n"
     ]
    }
   ],
   "source": [
    "payments.info()"
   ]
  },
  {
   "cell_type": "code",
   "execution_count": 156,
   "id": "a14cbd1a-d981-4b2d-adfa-27697cbcbe6f",
   "metadata": {},
   "outputs": [
    {
     "data": {
      "text/plain": [
       "payment_id        0\n",
       "loan_id           0\n",
       "payment_amount    0\n",
       "dtype: int64"
      ]
     },
     "execution_count": 156,
     "metadata": {},
     "output_type": "execute_result"
    }
   ],
   "source": [
    "#Identifying null values\n",
    "payments.isnull().sum()"
   ]
  },
  {
   "cell_type": "code",
   "execution_count": 157,
   "id": "bfd79f04-6b5f-4ba8-be7b-f9fc8e68d44a",
   "metadata": {},
   "outputs": [
    {
     "data": {
      "text/plain": [
       "4489"
      ]
     },
     "execution_count": 157,
     "metadata": {},
     "output_type": "execute_result"
    }
   ],
   "source": [
    "payments.nunique().sum()"
   ]
  },
  {
   "cell_type": "code",
   "execution_count": 158,
   "id": "cbbcc8ed-0725-41d0-b3fc-78b4c8989f8d",
   "metadata": {},
   "outputs": [
    {
     "data": {
      "text/plain": [
       "0"
      ]
     },
     "execution_count": 158,
     "metadata": {},
     "output_type": "execute_result"
    }
   ],
   "source": [
    "# Identify duplicates\n",
    "payments.duplicated().sum()"
   ]
  },
  {
   "cell_type": "code",
   "execution_count": 159,
   "id": "319ff0a7-be22-42c0-88ff-ee4266294676",
   "metadata": {},
   "outputs": [
    {
     "name": "stdout",
     "output_type": "stream",
     "text": [
      "{'column_names': ['payment_id', 'loan_id', 'payment_amount'], 'duplicate_counts': {'payment_id': 0, 'loan_id': 1508, 'payment_amount': 3}}\n"
     ]
    }
   ],
   "source": [
    "# Identifying duplicate values from each column of dataframe\n",
    "print(analyze_dataframe(payments))"
   ]
  },
  {
   "cell_type": "markdown",
   "id": "cdf7f2a9-8053-4864-9165-1f67bee791f2",
   "metadata": {},
   "source": [
    "## TRANSACTION DATASET"
   ]
  },
  {
   "cell_type": "code",
   "execution_count": 160,
   "id": "0c7daa30-6baa-43b6-a80f-86a22a08fbd4",
   "metadata": {},
   "outputs": [
    {
     "data": {
      "text/html": [
       "<div>\n",
       "<style scoped>\n",
       "    .dataframe tbody tr th:only-of-type {\n",
       "        vertical-align: middle;\n",
       "    }\n",
       "\n",
       "    .dataframe tbody tr th {\n",
       "        vertical-align: top;\n",
       "    }\n",
       "\n",
       "    .dataframe thead th {\n",
       "        text-align: right;\n",
       "    }\n",
       "</style>\n",
       "<table border=\"1\" class=\"dataframe\">\n",
       "  <thead>\n",
       "    <tr style=\"text-align: right;\">\n",
       "      <th></th>\n",
       "      <th>transaction_id</th>\n",
       "      <th>account_id</th>\n",
       "      <th>transaction_type</th>\n",
       "      <th>amount</th>\n",
       "    </tr>\n",
       "  </thead>\n",
       "  <tbody>\n",
       "    <tr>\n",
       "      <th>0</th>\n",
       "      <td>1302</td>\n",
       "      <td>178</td>\n",
       "      <td>Deposit</td>\n",
       "      <td>3896.27</td>\n",
       "    </tr>\n",
       "    <tr>\n",
       "      <th>1</th>\n",
       "      <td>592</td>\n",
       "      <td>769</td>\n",
       "      <td>Withdrawal</td>\n",
       "      <td>3813.22</td>\n",
       "    </tr>\n",
       "    <tr>\n",
       "      <th>2</th>\n",
       "      <td>1074</td>\n",
       "      <td>791</td>\n",
       "      <td>Withdrawal</td>\n",
       "      <td>665.38</td>\n",
       "    </tr>\n",
       "    <tr>\n",
       "      <th>3</th>\n",
       "      <td>1804</td>\n",
       "      <td>493</td>\n",
       "      <td>Withdrawal</td>\n",
       "      <td>1927.07</td>\n",
       "    </tr>\n",
       "    <tr>\n",
       "      <th>4</th>\n",
       "      <td>30</td>\n",
       "      <td>518</td>\n",
       "      <td>Deposit</td>\n",
       "      <td>1981.06</td>\n",
       "    </tr>\n",
       "    <tr>\n",
       "      <th>...</th>\n",
       "      <td>...</td>\n",
       "      <td>...</td>\n",
       "      <td>...</td>\n",
       "      <td>...</td>\n",
       "    </tr>\n",
       "    <tr>\n",
       "      <th>2056</th>\n",
       "      <td>1639</td>\n",
       "      <td>299</td>\n",
       "      <td>Deposit</td>\n",
       "      <td>1470.71</td>\n",
       "    </tr>\n",
       "    <tr>\n",
       "      <th>2057</th>\n",
       "      <td>1096</td>\n",
       "      <td>926</td>\n",
       "      <td>Withdrawal</td>\n",
       "      <td>2133.12</td>\n",
       "    </tr>\n",
       "    <tr>\n",
       "      <th>2058</th>\n",
       "      <td>1131</td>\n",
       "      <td>512</td>\n",
       "      <td>Deposit</td>\n",
       "      <td>689.72</td>\n",
       "    </tr>\n",
       "    <tr>\n",
       "      <th>2059</th>\n",
       "      <td>1295</td>\n",
       "      <td>657</td>\n",
       "      <td>Withdrawal</td>\n",
       "      <td>786.11</td>\n",
       "    </tr>\n",
       "    <tr>\n",
       "      <th>2060</th>\n",
       "      <td>861</td>\n",
       "      <td>676</td>\n",
       "      <td>Withdrawal</td>\n",
       "      <td>2244.33</td>\n",
       "    </tr>\n",
       "  </tbody>\n",
       "</table>\n",
       "<p>2061 rows × 4 columns</p>\n",
       "</div>"
      ],
      "text/plain": [
       "      transaction_id  account_id transaction_type   amount\n",
       "0               1302         178          Deposit  3896.27\n",
       "1                592         769       Withdrawal  3813.22\n",
       "2               1074         791       Withdrawal   665.38\n",
       "3               1804         493       Withdrawal  1927.07\n",
       "4                 30         518          Deposit  1981.06\n",
       "...              ...         ...              ...      ...\n",
       "2056            1639         299          Deposit  1470.71\n",
       "2057            1096         926       Withdrawal  2133.12\n",
       "2058            1131         512          Deposit   689.72\n",
       "2059            1295         657       Withdrawal   786.11\n",
       "2060             861         676       Withdrawal  2244.33\n",
       "\n",
       "[2061 rows x 4 columns]"
      ]
     },
     "execution_count": 160,
     "metadata": {},
     "output_type": "execute_result"
    }
   ],
   "source": [
    "# Reading csv file\n",
    "\n",
    "transaction = pd.read_csv(\"transactions_data.csv\")\n",
    "transaction"
   ]
  },
  {
   "cell_type": "code",
   "execution_count": 161,
   "id": "69290195-04d9-4a44-be1f-e5418069b0d2",
   "metadata": {},
   "outputs": [
    {
     "name": "stdout",
     "output_type": "stream",
     "text": [
      "<class 'pandas.core.frame.DataFrame'>\n",
      "RangeIndex: 2061 entries, 0 to 2060\n",
      "Data columns (total 4 columns):\n",
      " #   Column            Non-Null Count  Dtype  \n",
      "---  ------            --------------  -----  \n",
      " 0   transaction_id    2061 non-null   int64  \n",
      " 1   account_id        2061 non-null   int64  \n",
      " 2   transaction_type  2061 non-null   object \n",
      " 3   amount            2061 non-null   float64\n",
      "dtypes: float64(1), int64(2), object(1)\n",
      "memory usage: 64.5+ KB\n"
     ]
    }
   ],
   "source": [
    "# Analysing the short info about dataframe\n",
    "transaction.info()"
   ]
  },
  {
   "cell_type": "code",
   "execution_count": 162,
   "id": "aea14c53-54e7-452f-b1ff-2810e7d3fc17",
   "metadata": {},
   "outputs": [
    {
     "data": {
      "text/plain": [
       "transaction_id      0\n",
       "account_id          0\n",
       "transaction_type    0\n",
       "amount              0\n",
       "dtype: int64"
      ]
     },
     "execution_count": 162,
     "metadata": {},
     "output_type": "execute_result"
    }
   ],
   "source": [
    "# Identifying null values\n",
    "transaction.isnull().sum()"
   ]
  },
  {
   "cell_type": "code",
   "execution_count": 163,
   "id": "ae9d029a-58ef-4b9c-b284-faa151f786f7",
   "metadata": {},
   "outputs": [
    {
     "data": {
      "text/plain": [
       "61"
      ]
     },
     "execution_count": 163,
     "metadata": {},
     "output_type": "execute_result"
    }
   ],
   "source": [
    "# Identifying duplicate values\n",
    "transaction.duplicated().sum()"
   ]
  },
  {
   "cell_type": "code",
   "execution_count": 164,
   "id": "a947ec41-803a-462e-979a-dba292bee2e0",
   "metadata": {},
   "outputs": [
    {
     "name": "stdout",
     "output_type": "stream",
     "text": [
      "{'column_names': ['transaction_id', 'account_id', 'transaction_type', 'amount'], 'duplicate_counts': {'transaction_id': 61, 'account_id': 1191, 'transaction_type': 2059, 'amount': 65}}\n"
     ]
    }
   ],
   "source": [
    "# Identifying duplicate values from each column of dataframe\n",
    "print(analyze_dataframe(transaction))"
   ]
  },
  {
   "cell_type": "code",
   "execution_count": 165,
   "id": "14c95d82-1aaa-4277-b395-06265c51f4fb",
   "metadata": {},
   "outputs": [],
   "source": [
    "# Removing duplicates from transaction_id\n",
    "transaction.drop_duplicates([\"transaction_id\"],inplace= True)"
   ]
  },
  {
   "cell_type": "markdown",
   "id": "14ef163a-7663-441e-9367-58a3c6edb204",
   "metadata": {},
   "source": [
    "## DATAFRAME MERGING"
   ]
  },
  {
   "cell_type": "code",
   "execution_count": 166,
   "id": "52ac5f15-1708-4493-bdc5-751d201b4a3f",
   "metadata": {},
   "outputs": [
    {
     "data": {
      "text/html": [
       "<div>\n",
       "<style scoped>\n",
       "    .dataframe tbody tr th:only-of-type {\n",
       "        vertical-align: middle;\n",
       "    }\n",
       "\n",
       "    .dataframe tbody tr th {\n",
       "        vertical-align: top;\n",
       "    }\n",
       "\n",
       "    .dataframe thead th {\n",
       "        text-align: right;\n",
       "    }\n",
       "</style>\n",
       "<table border=\"1\" class=\"dataframe\">\n",
       "  <thead>\n",
       "    <tr style=\"text-align: right;\">\n",
       "      <th></th>\n",
       "      <th>customer_id</th>\n",
       "      <th>first_name</th>\n",
       "      <th>last_name</th>\n",
       "      <th>email</th>\n",
       "      <th>address</th>\n",
       "      <th>account_id</th>\n",
       "      <th>branch_id</th>\n",
       "      <th>account_type</th>\n",
       "      <th>balance</th>\n",
       "    </tr>\n",
       "  </thead>\n",
       "  <tbody>\n",
       "    <tr>\n",
       "      <th>0</th>\n",
       "      <td>583</td>\n",
       "      <td>Raghav</td>\n",
       "      <td>Sane</td>\n",
       "      <td>jagdish86@example.com</td>\n",
       "      <td>570\\nDara Street, Chennai-240844</td>\n",
       "      <td>713</td>\n",
       "      <td>10</td>\n",
       "      <td>Savings</td>\n",
       "      <td>48342.49</td>\n",
       "    </tr>\n",
       "    <tr>\n",
       "      <th>1</th>\n",
       "      <td>847</td>\n",
       "      <td>Avi</td>\n",
       "      <td>Lanka</td>\n",
       "      <td>mmadan@example.net</td>\n",
       "      <td>719, Karpe Ganj\\nGandhidham-140189</td>\n",
       "      <td>970</td>\n",
       "      <td>4</td>\n",
       "      <td>Savings</td>\n",
       "      <td>26393.87</td>\n",
       "    </tr>\n",
       "    <tr>\n",
       "      <th>2</th>\n",
       "      <td>502</td>\n",
       "      <td>Max</td>\n",
       "      <td>Bhat</td>\n",
       "      <td>seshadridalbir@example.net</td>\n",
       "      <td>773\\nMaster, Bhalswa Jahangir Pur 811115</td>\n",
       "      <td>934</td>\n",
       "      <td>6</td>\n",
       "      <td>Savings</td>\n",
       "      <td>14060.56</td>\n",
       "    </tr>\n",
       "    <tr>\n",
       "      <th>3</th>\n",
       "      <td>532</td>\n",
       "      <td>Theodore</td>\n",
       "      <td>Balakrishnan</td>\n",
       "      <td>vandra@example.net</td>\n",
       "      <td>271, Oak Road\\nBikaner 285378</td>\n",
       "      <td>933</td>\n",
       "      <td>4</td>\n",
       "      <td>Savings</td>\n",
       "      <td>48693.24</td>\n",
       "    </tr>\n",
       "    <tr>\n",
       "      <th>4</th>\n",
       "      <td>783</td>\n",
       "      <td>Aashi</td>\n",
       "      <td>Varughese</td>\n",
       "      <td>utalwar@example.net</td>\n",
       "      <td>23/721, Prabhu Chowk\\nBhilwara 396915</td>\n",
       "      <td>15</td>\n",
       "      <td>8</td>\n",
       "      <td>Savings</td>\n",
       "      <td>6847.94</td>\n",
       "    </tr>\n",
       "    <tr>\n",
       "      <th>...</th>\n",
       "      <td>...</td>\n",
       "      <td>...</td>\n",
       "      <td>...</td>\n",
       "      <td>...</td>\n",
       "      <td>...</td>\n",
       "      <td>...</td>\n",
       "      <td>...</td>\n",
       "      <td>...</td>\n",
       "      <td>...</td>\n",
       "    </tr>\n",
       "    <tr>\n",
       "      <th>640</th>\n",
       "      <td>742</td>\n",
       "      <td>Yauvani</td>\n",
       "      <td>Kari</td>\n",
       "      <td>quincy61@example.com</td>\n",
       "      <td>90/805, Kothari Street, Ajmer 811449</td>\n",
       "      <td>240</td>\n",
       "      <td>7</td>\n",
       "      <td>Current</td>\n",
       "      <td>2549.90</td>\n",
       "    </tr>\n",
       "    <tr>\n",
       "      <th>641</th>\n",
       "      <td>371</td>\n",
       "      <td>Pranit</td>\n",
       "      <td>Sarna</td>\n",
       "      <td>ishitamorar@example.org</td>\n",
       "      <td>95, Balay Road, Anantapur 658175</td>\n",
       "      <td>868</td>\n",
       "      <td>5</td>\n",
       "      <td>Savings</td>\n",
       "      <td>44289.01</td>\n",
       "    </tr>\n",
       "    <tr>\n",
       "      <th>642</th>\n",
       "      <td>752</td>\n",
       "      <td>Faqid</td>\n",
       "      <td>Jain</td>\n",
       "      <td>cchakrabarti@example.com</td>\n",
       "      <td>91\\nKannan Zila\\nSikar-638874</td>\n",
       "      <td>287</td>\n",
       "      <td>6</td>\n",
       "      <td>Savings</td>\n",
       "      <td>30952.90</td>\n",
       "    </tr>\n",
       "    <tr>\n",
       "      <th>643</th>\n",
       "      <td>647</td>\n",
       "      <td>Raghav</td>\n",
       "      <td>Batra</td>\n",
       "      <td>garayatin@example.net</td>\n",
       "      <td>99\\nDugal Marg\\nMedininagar-547618</td>\n",
       "      <td>915</td>\n",
       "      <td>9</td>\n",
       "      <td>Savings</td>\n",
       "      <td>14818.51</td>\n",
       "    </tr>\n",
       "    <tr>\n",
       "      <th>644</th>\n",
       "      <td>39</td>\n",
       "      <td>Viraj</td>\n",
       "      <td>Boase</td>\n",
       "      <td>xbava@example.com</td>\n",
       "      <td>985\\nVohra Zila, Nangloi Jat 923057</td>\n",
       "      <td>390</td>\n",
       "      <td>5</td>\n",
       "      <td>Savings</td>\n",
       "      <td>25462.52</td>\n",
       "    </tr>\n",
       "  </tbody>\n",
       "</table>\n",
       "<p>645 rows × 9 columns</p>\n",
       "</div>"
      ],
      "text/plain": [
       "     customer_id first_name     last_name                       email  \\\n",
       "0            583     Raghav          Sane       jagdish86@example.com   \n",
       "1            847        Avi         Lanka          mmadan@example.net   \n",
       "2            502        Max          Bhat  seshadridalbir@example.net   \n",
       "3            532   Theodore  Balakrishnan          vandra@example.net   \n",
       "4            783      Aashi     Varughese         utalwar@example.net   \n",
       "..           ...        ...           ...                         ...   \n",
       "640          742    Yauvani          Kari        quincy61@example.com   \n",
       "641          371     Pranit         Sarna     ishitamorar@example.org   \n",
       "642          752      Faqid          Jain    cchakrabarti@example.com   \n",
       "643          647     Raghav         Batra       garayatin@example.net   \n",
       "644           39      Viraj         Boase           xbava@example.com   \n",
       "\n",
       "                                      address  account_id  branch_id  \\\n",
       "0            570\\nDara Street, Chennai-240844         713         10   \n",
       "1          719, Karpe Ganj\\nGandhidham-140189         970          4   \n",
       "2    773\\nMaster, Bhalswa Jahangir Pur 811115         934          6   \n",
       "3               271, Oak Road\\nBikaner 285378         933          4   \n",
       "4       23/721, Prabhu Chowk\\nBhilwara 396915          15          8   \n",
       "..                                        ...         ...        ...   \n",
       "640      90/805, Kothari Street, Ajmer 811449         240          7   \n",
       "641          95, Balay Road, Anantapur 658175         868          5   \n",
       "642             91\\nKannan Zila\\nSikar-638874         287          6   \n",
       "643        99\\nDugal Marg\\nMedininagar-547618         915          9   \n",
       "644       985\\nVohra Zila, Nangloi Jat 923057         390          5   \n",
       "\n",
       "    account_type   balance  \n",
       "0        Savings  48342.49  \n",
       "1        Savings  26393.87  \n",
       "2        Savings  14060.56  \n",
       "3        Savings  48693.24  \n",
       "4        Savings   6847.94  \n",
       "..           ...       ...  \n",
       "640      Current   2549.90  \n",
       "641      Savings  44289.01  \n",
       "642      Savings  30952.90  \n",
       "643      Savings  14818.51  \n",
       "644      Savings  25462.52  \n",
       "\n",
       "[645 rows x 9 columns]"
      ]
     },
     "execution_count": 166,
     "metadata": {},
     "output_type": "execute_result"
    }
   ],
   "source": [
    "merged_df1 = customers.merge(accounts)\n",
    "merged_df1"
   ]
  },
  {
   "cell_type": "raw",
   "id": "b2c01f17-d7f6-4347-a9aa-b394deb3289d",
   "metadata": {},
   "source": [
    "Total_unique_customers = merged_df1['customer_id'].value_counts().count()\n",
    "print(Total_unique_customers)"
   ]
  },
  {
   "cell_type": "raw",
   "id": "fe390b34-b343-474e-823b-d20af7e82560",
   "metadata": {},
   "source": [
    "Total_balance = merged_df1['balance'].sum()\n",
    "print(Total_balance)"
   ]
  },
  {
   "cell_type": "code",
   "execution_count": 167,
   "id": "62e80953-e7f9-4d60-9057-cf2ebddd7246",
   "metadata": {},
   "outputs": [
    {
     "data": {
      "text/html": [
       "<div>\n",
       "<style scoped>\n",
       "    .dataframe tbody tr th:only-of-type {\n",
       "        vertical-align: middle;\n",
       "    }\n",
       "\n",
       "    .dataframe tbody tr th {\n",
       "        vertical-align: top;\n",
       "    }\n",
       "\n",
       "    .dataframe thead th {\n",
       "        text-align: right;\n",
       "    }\n",
       "</style>\n",
       "<table border=\"1\" class=\"dataframe\">\n",
       "  <thead>\n",
       "    <tr style=\"text-align: right;\">\n",
       "      <th></th>\n",
       "      <th>customer_id</th>\n",
       "      <th>first_name</th>\n",
       "      <th>last_name</th>\n",
       "      <th>email</th>\n",
       "      <th>address</th>\n",
       "      <th>kyc_id</th>\n",
       "      <th>kyc_status</th>\n",
       "    </tr>\n",
       "  </thead>\n",
       "  <tbody>\n",
       "    <tr>\n",
       "      <th>0</th>\n",
       "      <td>583</td>\n",
       "      <td>Raghav</td>\n",
       "      <td>Sane</td>\n",
       "      <td>jagdish86@example.com</td>\n",
       "      <td>570\\nDara Street, Chennai-240844</td>\n",
       "      <td>242</td>\n",
       "      <td>Pending</td>\n",
       "    </tr>\n",
       "    <tr>\n",
       "      <th>1</th>\n",
       "      <td>41</td>\n",
       "      <td>Mohini</td>\n",
       "      <td>Khare</td>\n",
       "      <td>aadisane@example.net</td>\n",
       "      <td>H.No. 072\\nMistry Nagar\\nShivpuri-529503</td>\n",
       "      <td>104</td>\n",
       "      <td>Completed</td>\n",
       "    </tr>\n",
       "    <tr>\n",
       "      <th>2</th>\n",
       "      <td>500</td>\n",
       "      <td>Azad</td>\n",
       "      <td>Ravi</td>\n",
       "      <td>bishakha09@example.org</td>\n",
       "      <td>728, Zachariah Circle, Chandrapur-478829</td>\n",
       "      <td>35</td>\n",
       "      <td>Under Review</td>\n",
       "    </tr>\n",
       "    <tr>\n",
       "      <th>3</th>\n",
       "      <td>502</td>\n",
       "      <td>Max</td>\n",
       "      <td>Bhat</td>\n",
       "      <td>seshadridalbir@example.net</td>\n",
       "      <td>773\\nMaster, Bhalswa Jahangir Pur 811115</td>\n",
       "      <td>160</td>\n",
       "      <td>Pending</td>\n",
       "    </tr>\n",
       "    <tr>\n",
       "      <th>4</th>\n",
       "      <td>668</td>\n",
       "      <td>Raagini</td>\n",
       "      <td>Saha</td>\n",
       "      <td>hkapur@example.com</td>\n",
       "      <td>148, Dutta Nagar, Morbi-877032</td>\n",
       "      <td>34</td>\n",
       "      <td>Pending</td>\n",
       "    </tr>\n",
       "    <tr>\n",
       "      <th>...</th>\n",
       "      <td>...</td>\n",
       "      <td>...</td>\n",
       "      <td>...</td>\n",
       "      <td>...</td>\n",
       "      <td>...</td>\n",
       "      <td>...</td>\n",
       "      <td>...</td>\n",
       "    </tr>\n",
       "    <tr>\n",
       "      <th>495</th>\n",
       "      <td>511</td>\n",
       "      <td>George</td>\n",
       "      <td>Lala</td>\n",
       "      <td>vedant09@example.net</td>\n",
       "      <td>190, Bawa, Aligarh 077275</td>\n",
       "      <td>82</td>\n",
       "      <td>Pending</td>\n",
       "    </tr>\n",
       "    <tr>\n",
       "      <th>496</th>\n",
       "      <td>75</td>\n",
       "      <td>Kamala</td>\n",
       "      <td>Vala</td>\n",
       "      <td>nakshchoudhry@example.com</td>\n",
       "      <td>90, Sengupta Zila\\nShahjahanpur 994267</td>\n",
       "      <td>208</td>\n",
       "      <td>Completed</td>\n",
       "    </tr>\n",
       "    <tr>\n",
       "      <th>497</th>\n",
       "      <td>371</td>\n",
       "      <td>Pranit</td>\n",
       "      <td>Sarna</td>\n",
       "      <td>ishitamorar@example.org</td>\n",
       "      <td>95, Balay Road, Anantapur 658175</td>\n",
       "      <td>55</td>\n",
       "      <td>Completed</td>\n",
       "    </tr>\n",
       "    <tr>\n",
       "      <th>498</th>\n",
       "      <td>279</td>\n",
       "      <td>Nidhi</td>\n",
       "      <td>Sama</td>\n",
       "      <td>ubikachoudhury@example.com</td>\n",
       "      <td>45/96\\nGola Street\\nAmravati 859499</td>\n",
       "      <td>83</td>\n",
       "      <td>Completed</td>\n",
       "    </tr>\n",
       "    <tr>\n",
       "      <th>499</th>\n",
       "      <td>646</td>\n",
       "      <td>Simon</td>\n",
       "      <td>Sidhu</td>\n",
       "      <td>sanaya27@example.org</td>\n",
       "      <td>H.No. 33\\nSastry, Vadodara 655911</td>\n",
       "      <td>119</td>\n",
       "      <td>Completed</td>\n",
       "    </tr>\n",
       "  </tbody>\n",
       "</table>\n",
       "<p>500 rows × 7 columns</p>\n",
       "</div>"
      ],
      "text/plain": [
       "     customer_id first_name last_name                       email  \\\n",
       "0            583     Raghav      Sane       jagdish86@example.com   \n",
       "1             41     Mohini     Khare        aadisane@example.net   \n",
       "2            500       Azad      Ravi      bishakha09@example.org   \n",
       "3            502        Max      Bhat  seshadridalbir@example.net   \n",
       "4            668    Raagini      Saha          hkapur@example.com   \n",
       "..           ...        ...       ...                         ...   \n",
       "495          511     George      Lala        vedant09@example.net   \n",
       "496           75     Kamala      Vala   nakshchoudhry@example.com   \n",
       "497          371     Pranit     Sarna     ishitamorar@example.org   \n",
       "498          279      Nidhi      Sama  ubikachoudhury@example.com   \n",
       "499          646      Simon     Sidhu        sanaya27@example.org   \n",
       "\n",
       "                                      address  kyc_id    kyc_status  \n",
       "0            570\\nDara Street, Chennai-240844     242       Pending  \n",
       "1    H.No. 072\\nMistry Nagar\\nShivpuri-529503     104     Completed  \n",
       "2    728, Zachariah Circle, Chandrapur-478829      35  Under Review  \n",
       "3    773\\nMaster, Bhalswa Jahangir Pur 811115     160       Pending  \n",
       "4              148, Dutta Nagar, Morbi-877032      34       Pending  \n",
       "..                                        ...     ...           ...  \n",
       "495                 190, Bawa, Aligarh 077275      82       Pending  \n",
       "496    90, Sengupta Zila\\nShahjahanpur 994267     208     Completed  \n",
       "497          95, Balay Road, Anantapur 658175      55     Completed  \n",
       "498       45/96\\nGola Street\\nAmravati 859499      83     Completed  \n",
       "499         H.No. 33\\nSastry, Vadodara 655911     119     Completed  \n",
       "\n",
       "[500 rows x 7 columns]"
      ]
     },
     "execution_count": 167,
     "metadata": {},
     "output_type": "execute_result"
    }
   ],
   "source": [
    "merged_df2 = customers.merge(kyc)\n",
    "merged_df2"
   ]
  },
  {
   "cell_type": "code",
   "execution_count": 168,
   "id": "9e53fc27-5bc5-450e-87bd-6ade8effa013",
   "metadata": {},
   "outputs": [
    {
     "data": {
      "text/html": [
       "<div>\n",
       "<style scoped>\n",
       "    .dataframe tbody tr th:only-of-type {\n",
       "        vertical-align: middle;\n",
       "    }\n",
       "\n",
       "    .dataframe tbody tr th {\n",
       "        vertical-align: top;\n",
       "    }\n",
       "\n",
       "    .dataframe thead th {\n",
       "        text-align: right;\n",
       "    }\n",
       "</style>\n",
       "<table border=\"1\" class=\"dataframe\">\n",
       "  <thead>\n",
       "    <tr style=\"text-align: right;\">\n",
       "      <th></th>\n",
       "      <th>customer_id</th>\n",
       "      <th>first_name</th>\n",
       "      <th>last_name</th>\n",
       "      <th>email</th>\n",
       "      <th>address</th>\n",
       "      <th>loan_id</th>\n",
       "      <th>loan_type</th>\n",
       "      <th>loan_amount</th>\n",
       "      <th>interest_rate</th>\n",
       "      <th>loan_status</th>\n",
       "    </tr>\n",
       "  </thead>\n",
       "  <tbody>\n",
       "    <tr>\n",
       "      <th>0</th>\n",
       "      <td>583</td>\n",
       "      <td>Raghav</td>\n",
       "      <td>Sane</td>\n",
       "      <td>jagdish86@example.com</td>\n",
       "      <td>570\\nDara Street, Chennai-240844</td>\n",
       "      <td>311</td>\n",
       "      <td>Personal</td>\n",
       "      <td>82235.81</td>\n",
       "      <td>9.34</td>\n",
       "      <td>Active</td>\n",
       "    </tr>\n",
       "    <tr>\n",
       "      <th>1</th>\n",
       "      <td>583</td>\n",
       "      <td>Raghav</td>\n",
       "      <td>Sane</td>\n",
       "      <td>jagdish86@example.com</td>\n",
       "      <td>570\\nDara Street, Chennai-240844</td>\n",
       "      <td>490</td>\n",
       "      <td>Personal</td>\n",
       "      <td>121314.55</td>\n",
       "      <td>7.21</td>\n",
       "      <td>Closed</td>\n",
       "    </tr>\n",
       "    <tr>\n",
       "      <th>2</th>\n",
       "      <td>514</td>\n",
       "      <td>Abhiram</td>\n",
       "      <td>Suresh</td>\n",
       "      <td>abhiram46@example.net</td>\n",
       "      <td>110, Dhillon Ganj\\nFirozabad 757923</td>\n",
       "      <td>55</td>\n",
       "      <td>Home</td>\n",
       "      <td>32128.65</td>\n",
       "      <td>8.02</td>\n",
       "      <td>Active</td>\n",
       "    </tr>\n",
       "    <tr>\n",
       "      <th>3</th>\n",
       "      <td>514</td>\n",
       "      <td>Abhiram</td>\n",
       "      <td>Suresh</td>\n",
       "      <td>abhiram46@example.net</td>\n",
       "      <td>110, Dhillon Ganj\\nFirozabad 757923</td>\n",
       "      <td>218</td>\n",
       "      <td>Personal</td>\n",
       "      <td>304610.38</td>\n",
       "      <td>8.70</td>\n",
       "      <td>Closed</td>\n",
       "    </tr>\n",
       "    <tr>\n",
       "      <th>4</th>\n",
       "      <td>41</td>\n",
       "      <td>Mohini</td>\n",
       "      <td>Khare</td>\n",
       "      <td>aadisane@example.net</td>\n",
       "      <td>H.No. 072\\nMistry Nagar\\nShivpuri-529503</td>\n",
       "      <td>42</td>\n",
       "      <td>Auto</td>\n",
       "      <td>465058.76</td>\n",
       "      <td>5.39</td>\n",
       "      <td>Active</td>\n",
       "    </tr>\n",
       "    <tr>\n",
       "      <th>...</th>\n",
       "      <td>...</td>\n",
       "      <td>...</td>\n",
       "      <td>...</td>\n",
       "      <td>...</td>\n",
       "      <td>...</td>\n",
       "      <td>...</td>\n",
       "      <td>...</td>\n",
       "      <td>...</td>\n",
       "      <td>...</td>\n",
       "      <td>...</td>\n",
       "    </tr>\n",
       "    <tr>\n",
       "      <th>495</th>\n",
       "      <td>279</td>\n",
       "      <td>Nidhi</td>\n",
       "      <td>Sama</td>\n",
       "      <td>ubikachoudhury@example.com</td>\n",
       "      <td>45/96\\nGola Street\\nAmravati 859499</td>\n",
       "      <td>192</td>\n",
       "      <td>Home</td>\n",
       "      <td>45017.99</td>\n",
       "      <td>5.00</td>\n",
       "      <td>Active</td>\n",
       "    </tr>\n",
       "    <tr>\n",
       "      <th>496</th>\n",
       "      <td>674</td>\n",
       "      <td>Fitan</td>\n",
       "      <td>Bose</td>\n",
       "      <td>riyathakkar@example.org</td>\n",
       "      <td>31/06\\nGoswami Nagar, Gandhidham 534332</td>\n",
       "      <td>80</td>\n",
       "      <td>Home</td>\n",
       "      <td>42039.36</td>\n",
       "      <td>7.47</td>\n",
       "      <td>Active</td>\n",
       "    </tr>\n",
       "    <tr>\n",
       "      <th>497</th>\n",
       "      <td>988</td>\n",
       "      <td>Veer</td>\n",
       "      <td>Som</td>\n",
       "      <td>hkar@example.com</td>\n",
       "      <td>H.No. 28\\nSha Chowk\\nCuttack-527559</td>\n",
       "      <td>272</td>\n",
       "      <td>Auto</td>\n",
       "      <td>485583.93</td>\n",
       "      <td>6.65</td>\n",
       "      <td>Closed</td>\n",
       "    </tr>\n",
       "    <tr>\n",
       "      <th>498</th>\n",
       "      <td>39</td>\n",
       "      <td>Viraj</td>\n",
       "      <td>Boase</td>\n",
       "      <td>xbava@example.com</td>\n",
       "      <td>985\\nVohra Zila, Nangloi Jat 923057</td>\n",
       "      <td>117</td>\n",
       "      <td>Personal</td>\n",
       "      <td>432759.71</td>\n",
       "      <td>8.05</td>\n",
       "      <td>Closed</td>\n",
       "    </tr>\n",
       "    <tr>\n",
       "      <th>499</th>\n",
       "      <td>646</td>\n",
       "      <td>Simon</td>\n",
       "      <td>Sidhu</td>\n",
       "      <td>sanaya27@example.org</td>\n",
       "      <td>H.No. 33\\nSastry, Vadodara 655911</td>\n",
       "      <td>104</td>\n",
       "      <td>Auto</td>\n",
       "      <td>112358.94</td>\n",
       "      <td>6.40</td>\n",
       "      <td>Active</td>\n",
       "    </tr>\n",
       "  </tbody>\n",
       "</table>\n",
       "<p>500 rows × 10 columns</p>\n",
       "</div>"
      ],
      "text/plain": [
       "     customer_id first_name last_name                       email  \\\n",
       "0            583     Raghav      Sane       jagdish86@example.com   \n",
       "1            583     Raghav      Sane       jagdish86@example.com   \n",
       "2            514    Abhiram    Suresh       abhiram46@example.net   \n",
       "3            514    Abhiram    Suresh       abhiram46@example.net   \n",
       "4             41     Mohini     Khare        aadisane@example.net   \n",
       "..           ...        ...       ...                         ...   \n",
       "495          279      Nidhi      Sama  ubikachoudhury@example.com   \n",
       "496          674      Fitan      Bose     riyathakkar@example.org   \n",
       "497          988       Veer       Som            hkar@example.com   \n",
       "498           39      Viraj     Boase           xbava@example.com   \n",
       "499          646      Simon     Sidhu        sanaya27@example.org   \n",
       "\n",
       "                                      address  loan_id loan_type  loan_amount  \\\n",
       "0            570\\nDara Street, Chennai-240844      311  Personal     82235.81   \n",
       "1            570\\nDara Street, Chennai-240844      490  Personal    121314.55   \n",
       "2         110, Dhillon Ganj\\nFirozabad 757923       55      Home     32128.65   \n",
       "3         110, Dhillon Ganj\\nFirozabad 757923      218  Personal    304610.38   \n",
       "4    H.No. 072\\nMistry Nagar\\nShivpuri-529503       42      Auto    465058.76   \n",
       "..                                        ...      ...       ...          ...   \n",
       "495       45/96\\nGola Street\\nAmravati 859499      192      Home     45017.99   \n",
       "496   31/06\\nGoswami Nagar, Gandhidham 534332       80      Home     42039.36   \n",
       "497       H.No. 28\\nSha Chowk\\nCuttack-527559      272      Auto    485583.93   \n",
       "498       985\\nVohra Zila, Nangloi Jat 923057      117  Personal    432759.71   \n",
       "499         H.No. 33\\nSastry, Vadodara 655911      104      Auto    112358.94   \n",
       "\n",
       "     interest_rate loan_status  \n",
       "0             9.34      Active  \n",
       "1             7.21      Closed  \n",
       "2             8.02      Active  \n",
       "3             8.70      Closed  \n",
       "4             5.39      Active  \n",
       "..             ...         ...  \n",
       "495           5.00      Active  \n",
       "496           7.47      Active  \n",
       "497           6.65      Closed  \n",
       "498           8.05      Closed  \n",
       "499           6.40      Active  \n",
       "\n",
       "[500 rows x 10 columns]"
      ]
     },
     "execution_count": 168,
     "metadata": {},
     "output_type": "execute_result"
    }
   ],
   "source": [
    "merged_df3 = customers.merge(loans)\n",
    "merged_df3"
   ]
  },
  {
   "cell_type": "raw",
   "id": "d3004706-4897-4aea-b11e-94f613cdbc01",
   "metadata": {},
   "source": [
    "Average_loan_amount = merged_df3['loan_amount'].min()\n",
    "Average_loan_amount"
   ]
  },
  {
   "cell_type": "code",
   "execution_count": 169,
   "id": "410fc5ed-ec2c-4f23-976a-44ae9f307393",
   "metadata": {},
   "outputs": [
    {
     "data": {
      "text/html": [
       "<div>\n",
       "<style scoped>\n",
       "    .dataframe tbody tr th:only-of-type {\n",
       "        vertical-align: middle;\n",
       "    }\n",
       "\n",
       "    .dataframe tbody tr th {\n",
       "        vertical-align: top;\n",
       "    }\n",
       "\n",
       "    .dataframe thead th {\n",
       "        text-align: right;\n",
       "    }\n",
       "</style>\n",
       "<table border=\"1\" class=\"dataframe\">\n",
       "  <thead>\n",
       "    <tr style=\"text-align: right;\">\n",
       "      <th></th>\n",
       "      <th>loan_id</th>\n",
       "      <th>customer_id</th>\n",
       "      <th>loan_type</th>\n",
       "      <th>loan_amount</th>\n",
       "      <th>interest_rate</th>\n",
       "      <th>loan_status</th>\n",
       "      <th>payment_id</th>\n",
       "      <th>payment_amount</th>\n",
       "    </tr>\n",
       "  </thead>\n",
       "  <tbody>\n",
       "    <tr>\n",
       "      <th>0</th>\n",
       "      <td>41</td>\n",
       "      <td>46</td>\n",
       "      <td>Auto</td>\n",
       "      <td>33255.74</td>\n",
       "      <td>9.49</td>\n",
       "      <td>Closed</td>\n",
       "      <td>389</td>\n",
       "      <td>1983.30</td>\n",
       "    </tr>\n",
       "    <tr>\n",
       "      <th>1</th>\n",
       "      <td>41</td>\n",
       "      <td>46</td>\n",
       "      <td>Auto</td>\n",
       "      <td>33255.74</td>\n",
       "      <td>9.49</td>\n",
       "      <td>Closed</td>\n",
       "      <td>876</td>\n",
       "      <td>3647.88</td>\n",
       "    </tr>\n",
       "    <tr>\n",
       "      <th>2</th>\n",
       "      <td>41</td>\n",
       "      <td>46</td>\n",
       "      <td>Auto</td>\n",
       "      <td>33255.74</td>\n",
       "      <td>9.49</td>\n",
       "      <td>Closed</td>\n",
       "      <td>1454</td>\n",
       "      <td>1286.57</td>\n",
       "    </tr>\n",
       "    <tr>\n",
       "      <th>3</th>\n",
       "      <td>41</td>\n",
       "      <td>46</td>\n",
       "      <td>Auto</td>\n",
       "      <td>33255.74</td>\n",
       "      <td>9.49</td>\n",
       "      <td>Closed</td>\n",
       "      <td>1641</td>\n",
       "      <td>1375.54</td>\n",
       "    </tr>\n",
       "    <tr>\n",
       "      <th>4</th>\n",
       "      <td>41</td>\n",
       "      <td>46</td>\n",
       "      <td>Auto</td>\n",
       "      <td>33255.74</td>\n",
       "      <td>9.49</td>\n",
       "      <td>Closed</td>\n",
       "      <td>1678</td>\n",
       "      <td>3426.75</td>\n",
       "    </tr>\n",
       "    <tr>\n",
       "      <th>...</th>\n",
       "      <td>...</td>\n",
       "      <td>...</td>\n",
       "      <td>...</td>\n",
       "      <td>...</td>\n",
       "      <td>...</td>\n",
       "      <td>...</td>\n",
       "      <td>...</td>\n",
       "      <td>...</td>\n",
       "    </tr>\n",
       "    <tr>\n",
       "      <th>1995</th>\n",
       "      <td>436</td>\n",
       "      <td>504</td>\n",
       "      <td>Personal</td>\n",
       "      <td>314972.12</td>\n",
       "      <td>8.46</td>\n",
       "      <td>Closed</td>\n",
       "      <td>771</td>\n",
       "      <td>4021.97</td>\n",
       "    </tr>\n",
       "    <tr>\n",
       "      <th>1996</th>\n",
       "      <td>103</td>\n",
       "      <td>853</td>\n",
       "      <td>Auto</td>\n",
       "      <td>233355.73</td>\n",
       "      <td>9.72</td>\n",
       "      <td>Closed</td>\n",
       "      <td>175</td>\n",
       "      <td>2899.46</td>\n",
       "    </tr>\n",
       "    <tr>\n",
       "      <th>1997</th>\n",
       "      <td>103</td>\n",
       "      <td>853</td>\n",
       "      <td>Auto</td>\n",
       "      <td>233355.73</td>\n",
       "      <td>9.72</td>\n",
       "      <td>Closed</td>\n",
       "      <td>1145</td>\n",
       "      <td>1025.74</td>\n",
       "    </tr>\n",
       "    <tr>\n",
       "      <th>1998</th>\n",
       "      <td>103</td>\n",
       "      <td>853</td>\n",
       "      <td>Auto</td>\n",
       "      <td>233355.73</td>\n",
       "      <td>9.72</td>\n",
       "      <td>Closed</td>\n",
       "      <td>1260</td>\n",
       "      <td>2082.54</td>\n",
       "    </tr>\n",
       "    <tr>\n",
       "      <th>1999</th>\n",
       "      <td>103</td>\n",
       "      <td>853</td>\n",
       "      <td>Auto</td>\n",
       "      <td>233355.73</td>\n",
       "      <td>9.72</td>\n",
       "      <td>Closed</td>\n",
       "      <td>1727</td>\n",
       "      <td>2999.52</td>\n",
       "    </tr>\n",
       "  </tbody>\n",
       "</table>\n",
       "<p>2000 rows × 8 columns</p>\n",
       "</div>"
      ],
      "text/plain": [
       "      loan_id  customer_id loan_type  loan_amount  interest_rate loan_status  \\\n",
       "0          41           46      Auto     33255.74           9.49      Closed   \n",
       "1          41           46      Auto     33255.74           9.49      Closed   \n",
       "2          41           46      Auto     33255.74           9.49      Closed   \n",
       "3          41           46      Auto     33255.74           9.49      Closed   \n",
       "4          41           46      Auto     33255.74           9.49      Closed   \n",
       "...       ...          ...       ...          ...            ...         ...   \n",
       "1995      436          504  Personal    314972.12           8.46      Closed   \n",
       "1996      103          853      Auto    233355.73           9.72      Closed   \n",
       "1997      103          853      Auto    233355.73           9.72      Closed   \n",
       "1998      103          853      Auto    233355.73           9.72      Closed   \n",
       "1999      103          853      Auto    233355.73           9.72      Closed   \n",
       "\n",
       "      payment_id  payment_amount  \n",
       "0            389         1983.30  \n",
       "1            876         3647.88  \n",
       "2           1454         1286.57  \n",
       "3           1641         1375.54  \n",
       "4           1678         3426.75  \n",
       "...          ...             ...  \n",
       "1995         771         4021.97  \n",
       "1996         175         2899.46  \n",
       "1997        1145         1025.74  \n",
       "1998        1260         2082.54  \n",
       "1999        1727         2999.52  \n",
       "\n",
       "[2000 rows x 8 columns]"
      ]
     },
     "execution_count": 169,
     "metadata": {},
     "output_type": "execute_result"
    }
   ],
   "source": [
    "merge_df4 = loans.merge(payments)\n",
    "merge_df4"
   ]
  },
  {
   "cell_type": "code",
   "execution_count": 170,
   "id": "66e55d4c-2a3f-4de1-ba6b-dd2c339e41cd",
   "metadata": {},
   "outputs": [
    {
     "data": {
      "text/html": [
       "<div>\n",
       "<style scoped>\n",
       "    .dataframe tbody tr th:only-of-type {\n",
       "        vertical-align: middle;\n",
       "    }\n",
       "\n",
       "    .dataframe tbody tr th {\n",
       "        vertical-align: top;\n",
       "    }\n",
       "\n",
       "    .dataframe thead th {\n",
       "        text-align: right;\n",
       "    }\n",
       "</style>\n",
       "<table border=\"1\" class=\"dataframe\">\n",
       "  <thead>\n",
       "    <tr style=\"text-align: right;\">\n",
       "      <th></th>\n",
       "      <th>account_id</th>\n",
       "      <th>customer_id</th>\n",
       "      <th>branch_id</th>\n",
       "      <th>account_type</th>\n",
       "      <th>balance</th>\n",
       "      <th>transaction_id</th>\n",
       "      <th>transaction_type</th>\n",
       "      <th>amount</th>\n",
       "    </tr>\n",
       "  </thead>\n",
       "  <tbody>\n",
       "    <tr>\n",
       "      <th>0</th>\n",
       "      <td>261</td>\n",
       "      <td>780</td>\n",
       "      <td>9</td>\n",
       "      <td>Savings</td>\n",
       "      <td>39823.92</td>\n",
       "      <td>790</td>\n",
       "      <td>Withdrawal</td>\n",
       "      <td>4958.93</td>\n",
       "    </tr>\n",
       "    <tr>\n",
       "      <th>1</th>\n",
       "      <td>261</td>\n",
       "      <td>780</td>\n",
       "      <td>9</td>\n",
       "      <td>Savings</td>\n",
       "      <td>39823.92</td>\n",
       "      <td>9</td>\n",
       "      <td>Withdrawal</td>\n",
       "      <td>2194.14</td>\n",
       "    </tr>\n",
       "    <tr>\n",
       "      <th>2</th>\n",
       "      <td>846</td>\n",
       "      <td>711</td>\n",
       "      <td>5</td>\n",
       "      <td>Savings</td>\n",
       "      <td>48574.25</td>\n",
       "      <td>1190</td>\n",
       "      <td>Withdrawal</td>\n",
       "      <td>2081.64</td>\n",
       "    </tr>\n",
       "    <tr>\n",
       "      <th>3</th>\n",
       "      <td>846</td>\n",
       "      <td>711</td>\n",
       "      <td>5</td>\n",
       "      <td>Savings</td>\n",
       "      <td>48574.25</td>\n",
       "      <td>1986</td>\n",
       "      <td>Withdrawal</td>\n",
       "      <td>1508.35</td>\n",
       "    </tr>\n",
       "    <tr>\n",
       "      <th>4</th>\n",
       "      <td>5</td>\n",
       "      <td>226</td>\n",
       "      <td>9</td>\n",
       "      <td>Savings</td>\n",
       "      <td>3631.82</td>\n",
       "      <td>583</td>\n",
       "      <td>Deposit</td>\n",
       "      <td>4138.82</td>\n",
       "    </tr>\n",
       "    <tr>\n",
       "      <th>...</th>\n",
       "      <td>...</td>\n",
       "      <td>...</td>\n",
       "      <td>...</td>\n",
       "      <td>...</td>\n",
       "      <td>...</td>\n",
       "      <td>...</td>\n",
       "      <td>...</td>\n",
       "      <td>...</td>\n",
       "    </tr>\n",
       "    <tr>\n",
       "      <th>1301</th>\n",
       "      <td>331</td>\n",
       "      <td>856</td>\n",
       "      <td>5</td>\n",
       "      <td>Savings</td>\n",
       "      <td>15573.92</td>\n",
       "      <td>1180</td>\n",
       "      <td>Withdrawal</td>\n",
       "      <td>971.59</td>\n",
       "    </tr>\n",
       "    <tr>\n",
       "      <th>1302</th>\n",
       "      <td>331</td>\n",
       "      <td>856</td>\n",
       "      <td>5</td>\n",
       "      <td>Savings</td>\n",
       "      <td>15573.92</td>\n",
       "      <td>1241</td>\n",
       "      <td>Withdrawal</td>\n",
       "      <td>3589.22</td>\n",
       "    </tr>\n",
       "    <tr>\n",
       "      <th>1303</th>\n",
       "      <td>331</td>\n",
       "      <td>856</td>\n",
       "      <td>5</td>\n",
       "      <td>Savings</td>\n",
       "      <td>15573.92</td>\n",
       "      <td>253</td>\n",
       "      <td>Deposit</td>\n",
       "      <td>2287.66</td>\n",
       "    </tr>\n",
       "    <tr>\n",
       "      <th>1304</th>\n",
       "      <td>861</td>\n",
       "      <td>126</td>\n",
       "      <td>1</td>\n",
       "      <td>Savings</td>\n",
       "      <td>49541.05</td>\n",
       "      <td>928</td>\n",
       "      <td>Withdrawal</td>\n",
       "      <td>1169.78</td>\n",
       "    </tr>\n",
       "    <tr>\n",
       "      <th>1305</th>\n",
       "      <td>861</td>\n",
       "      <td>126</td>\n",
       "      <td>1</td>\n",
       "      <td>Savings</td>\n",
       "      <td>49541.05</td>\n",
       "      <td>497</td>\n",
       "      <td>Withdrawal</td>\n",
       "      <td>1436.84</td>\n",
       "    </tr>\n",
       "  </tbody>\n",
       "</table>\n",
       "<p>1306 rows × 8 columns</p>\n",
       "</div>"
      ],
      "text/plain": [
       "      account_id  customer_id  branch_id account_type   balance  \\\n",
       "0            261          780          9      Savings  39823.92   \n",
       "1            261          780          9      Savings  39823.92   \n",
       "2            846          711          5      Savings  48574.25   \n",
       "3            846          711          5      Savings  48574.25   \n",
       "4              5          226          9      Savings   3631.82   \n",
       "...          ...          ...        ...          ...       ...   \n",
       "1301         331          856          5      Savings  15573.92   \n",
       "1302         331          856          5      Savings  15573.92   \n",
       "1303         331          856          5      Savings  15573.92   \n",
       "1304         861          126          1      Savings  49541.05   \n",
       "1305         861          126          1      Savings  49541.05   \n",
       "\n",
       "      transaction_id transaction_type   amount  \n",
       "0                790       Withdrawal  4958.93  \n",
       "1                  9       Withdrawal  2194.14  \n",
       "2               1190       Withdrawal  2081.64  \n",
       "3               1986       Withdrawal  1508.35  \n",
       "4                583          Deposit  4138.82  \n",
       "...              ...              ...      ...  \n",
       "1301            1180       Withdrawal   971.59  \n",
       "1302            1241       Withdrawal  3589.22  \n",
       "1303             253          Deposit  2287.66  \n",
       "1304             928       Withdrawal  1169.78  \n",
       "1305             497       Withdrawal  1436.84  \n",
       "\n",
       "[1306 rows x 8 columns]"
      ]
     },
     "execution_count": 170,
     "metadata": {},
     "output_type": "execute_result"
    }
   ],
   "source": [
    "merge_df5 = accounts.merge(transaction)\n",
    "merge_df5"
   ]
  },
  {
   "cell_type": "code",
   "execution_count": 171,
   "id": "11d6ec52-7558-48d8-bb83-bf0cd0517cec",
   "metadata": {},
   "outputs": [
    {
     "data": {
      "text/html": [
       "<div>\n",
       "<style scoped>\n",
       "    .dataframe tbody tr th:only-of-type {\n",
       "        vertical-align: middle;\n",
       "    }\n",
       "\n",
       "    .dataframe tbody tr th {\n",
       "        vertical-align: top;\n",
       "    }\n",
       "\n",
       "    .dataframe thead th {\n",
       "        text-align: right;\n",
       "    }\n",
       "</style>\n",
       "<table border=\"1\" class=\"dataframe\">\n",
       "  <thead>\n",
       "    <tr style=\"text-align: right;\">\n",
       "      <th></th>\n",
       "      <th>account_id</th>\n",
       "      <th>customer_id</th>\n",
       "      <th>branch_id</th>\n",
       "      <th>account_type</th>\n",
       "      <th>balance</th>\n",
       "      <th>branch_name</th>\n",
       "      <th>branch_address</th>\n",
       "    </tr>\n",
       "  </thead>\n",
       "  <tbody>\n",
       "    <tr>\n",
       "      <th>0</th>\n",
       "      <td>261</td>\n",
       "      <td>780</td>\n",
       "      <td>9</td>\n",
       "      <td>Savings</td>\n",
       "      <td>39823.92</td>\n",
       "      <td>S19i</td>\n",
       "      <td>41109X</td>\n",
       "    </tr>\n",
       "    <tr>\n",
       "      <th>1</th>\n",
       "      <td>846</td>\n",
       "      <td>711</td>\n",
       "      <td>5</td>\n",
       "      <td>Savings</td>\n",
       "      <td>48574.25</td>\n",
       "      <td>Y15a</td>\n",
       "      <td>41105T</td>\n",
       "    </tr>\n",
       "    <tr>\n",
       "      <th>2</th>\n",
       "      <td>5</td>\n",
       "      <td>226</td>\n",
       "      <td>9</td>\n",
       "      <td>Savings</td>\n",
       "      <td>3631.82</td>\n",
       "      <td>S19i</td>\n",
       "      <td>41109X</td>\n",
       "    </tr>\n",
       "    <tr>\n",
       "      <th>3</th>\n",
       "      <td>89</td>\n",
       "      <td>923</td>\n",
       "      <td>2</td>\n",
       "      <td>Current</td>\n",
       "      <td>3463.25</td>\n",
       "      <td>N12n</td>\n",
       "      <td>41102Q</td>\n",
       "    </tr>\n",
       "    <tr>\n",
       "      <th>4</th>\n",
       "      <td>458</td>\n",
       "      <td>837</td>\n",
       "      <td>3</td>\n",
       "      <td>Savings</td>\n",
       "      <td>4798.15</td>\n",
       "      <td>R13n</td>\n",
       "      <td>41103R</td>\n",
       "    </tr>\n",
       "    <tr>\n",
       "      <th>...</th>\n",
       "      <td>...</td>\n",
       "      <td>...</td>\n",
       "      <td>...</td>\n",
       "      <td>...</td>\n",
       "      <td>...</td>\n",
       "      <td>...</td>\n",
       "      <td>...</td>\n",
       "    </tr>\n",
       "    <tr>\n",
       "      <th>640</th>\n",
       "      <td>806</td>\n",
       "      <td>408</td>\n",
       "      <td>5</td>\n",
       "      <td>Savings</td>\n",
       "      <td>30699.78</td>\n",
       "      <td>Y15a</td>\n",
       "      <td>41105T</td>\n",
       "    </tr>\n",
       "    <tr>\n",
       "      <th>641</th>\n",
       "      <td>770</td>\n",
       "      <td>814</td>\n",
       "      <td>9</td>\n",
       "      <td>Savings</td>\n",
       "      <td>4391.81</td>\n",
       "      <td>S19i</td>\n",
       "      <td>41109X</td>\n",
       "    </tr>\n",
       "    <tr>\n",
       "      <th>642</th>\n",
       "      <td>872</td>\n",
       "      <td>80</td>\n",
       "      <td>8</td>\n",
       "      <td>Current</td>\n",
       "      <td>22191.92</td>\n",
       "      <td>V18a</td>\n",
       "      <td>41108W</td>\n",
       "    </tr>\n",
       "    <tr>\n",
       "      <th>643</th>\n",
       "      <td>331</td>\n",
       "      <td>856</td>\n",
       "      <td>5</td>\n",
       "      <td>Savings</td>\n",
       "      <td>15573.92</td>\n",
       "      <td>Y15a</td>\n",
       "      <td>41105T</td>\n",
       "    </tr>\n",
       "    <tr>\n",
       "      <th>644</th>\n",
       "      <td>861</td>\n",
       "      <td>126</td>\n",
       "      <td>1</td>\n",
       "      <td>Savings</td>\n",
       "      <td>49541.05</td>\n",
       "      <td>O11r</td>\n",
       "      <td>41101P</td>\n",
       "    </tr>\n",
       "  </tbody>\n",
       "</table>\n",
       "<p>645 rows × 7 columns</p>\n",
       "</div>"
      ],
      "text/plain": [
       "     account_id  customer_id  branch_id account_type   balance branch_name  \\\n",
       "0           261          780          9      Savings  39823.92        S19i   \n",
       "1           846          711          5      Savings  48574.25        Y15a   \n",
       "2             5          226          9      Savings   3631.82        S19i   \n",
       "3            89          923          2      Current   3463.25        N12n   \n",
       "4           458          837          3      Savings   4798.15        R13n   \n",
       "..          ...          ...        ...          ...       ...         ...   \n",
       "640         806          408          5      Savings  30699.78        Y15a   \n",
       "641         770          814          9      Savings   4391.81        S19i   \n",
       "642         872           80          8      Current  22191.92        V18a   \n",
       "643         331          856          5      Savings  15573.92        Y15a   \n",
       "644         861          126          1      Savings  49541.05        O11r   \n",
       "\n",
       "    branch_address  \n",
       "0           41109X  \n",
       "1           41105T  \n",
       "2           41109X  \n",
       "3           41102Q  \n",
       "4           41103R  \n",
       "..             ...  \n",
       "640         41105T  \n",
       "641         41109X  \n",
       "642         41108W  \n",
       "643         41105T  \n",
       "644         41101P  \n",
       "\n",
       "[645 rows x 7 columns]"
      ]
     },
     "execution_count": 171,
     "metadata": {},
     "output_type": "execute_result"
    }
   ],
   "source": [
    "merge_df6= accounts.merge(branches)\n",
    "merge_df6"
   ]
  },
  {
   "cell_type": "markdown",
   "id": "de5b1084-4e17-4a1d-8df5-1f658d7e100f",
   "metadata": {},
   "source": [
    "## DATA VISUALIZATION"
   ]
  },
  {
   "cell_type": "markdown",
   "id": "412f3771-9e91-4401-bffa-fa61aebf8178",
   "metadata": {},
   "source": [
    "### 1. Customer Demographics:"
   ]
  },
  {
   "cell_type": "markdown",
   "id": "ae84654f-da0e-4de8-b604-d3817ab57222",
   "metadata": {},
   "source": [
    "### a) Customer Distribution Across Branches"
   ]
  },
  {
   "cell_type": "code",
   "execution_count": 172,
   "id": "3517181d-cbe7-4219-b80d-13d607aa54ad",
   "metadata": {},
   "outputs": [
    {
     "data": {
      "image/png": "[encoded data removed]",
      "text/plain": [
       "<Figure size 1200x500 with 1 Axes>"
      ]
     },
     "metadata": {},
     "output_type": "display_data"
    }
   ],
   "source": [
    "# Customer count per Branch\n",
    "merged_df6= accounts.merge(branches)\n",
    "customer_per_branch = merged_df6.groupby(\"branch_name\")[\"customer_id\"].count().reset_index()\n",
    "\n",
    "plt.figure(figsize=(12,5))\n",
    "data_labels = sns.barplot(data= customer_per_branch, x=\"branch_name\", y= \"customer_id\", color= '#B1C995')\n",
    "for container in data_labels.containers:\n",
    "    data_labels.bar_label(container, label_type='edge', fontsize = 8)\n",
    "plt.title(\"Customer count per Branch\", fontsize= 16)\n",
    "plt.xlabel(\"Branches\", fontsize= 12)\n",
    "plt.ylabel(\"Customer Count\", fontsize= 12)\n",
    "plt.show()"
   ]
  },
  {
   "cell_type": "markdown",
   "id": "b9212fa4-d7fb-4198-b13b-4b58a7b68159",
   "metadata": {},
   "source": [
    "##### Conclusion: Branch N12n & O11r has most customer count showing more satisfaction as compared to M20i, suggesting investigation why M20i has fewer customers and implement strategies like targeted marketing or improving branch-specific services to attract more customers."
   ]
  },
  {
   "cell_type": "markdown",
   "id": "02ca2ca6-11c5-42c0-b532-fd184972d8fb",
   "metadata": {},
   "source": [
    "### b) Highest & Lowest Balance analysis per Branch of the customer"
   ]
  },
  {
   "cell_type": "code",
   "execution_count": 173,
   "id": "b6815f06-fd9e-4127-8b6f-850654c27c6c",
   "metadata": {},
   "outputs": [
    {
     "data": {
      "image/png": "[encoded data removed]",
      "text/plain": [
       "<Figure size 1000x500 with 1 Axes>"
      ]
     },
     "metadata": {},
     "output_type": "display_data"
    }
   ],
   "source": [
    "# Highest and lowest balance per branch\n",
    "merged_df= accounts.merge(branches)\n",
    "top_customers = merged_df.groupby('branch_name')['balance'].max()\n",
    "bottom_customers = merged_df.groupby('branch_name')['balance'].min()\n",
    "\n",
    "result_df = pd.DataFrame({'Branch': top_customers.index,\n",
    "                           'Highest': top_customers.values,\n",
    "                           'Lowest': bottom_customers.values})\n",
    "\n",
    "result_df.plot(x='Branch', kind='bar', figsize=(10, 5))\n",
    "plt.title('Highest and Lowest Balance per Branch')\n",
    "plt.ylabel('Balance')\n",
    "plt.xlabel('Branch')\n",
    "plt.xticks(rotation=0)\n",
    "plt.show()"
   ]
  },
  {
   "cell_type": "markdown",
   "id": "98ee8f2f-29ef-4ba0-bd4b-f06268e33917",
   "metadata": {},
   "source": [
    "##### Conclusion: The graph shows the highest and lowest customer balances across different branches. Branch \"Y15a\" has the most money, while \"B16a\" has the least. To make more money, the company should focus on branches with higher balances, understand why some branches have lower balances, offer special deals to high-value customers, and improve customer service."
   ]
  },
  {
   "cell_type": "markdown",
   "id": "c68c4c13-4e72-4b5f-9cc1-cc6aebad1bcf",
   "metadata": {},
   "source": [
    "### c) Customer with highest & lowest balance in each branch"
   ]
  },
  {
   "cell_type": "code",
   "execution_count": 174,
   "id": "24d51692-5461-4d3b-bb4b-277a579fb8e6",
   "metadata": {},
   "outputs": [
    {
     "data": {
      "text/html": [
       "<div>\n",
       "<style scoped>\n",
       "    .dataframe tbody tr th:only-of-type {\n",
       "        vertical-align: middle;\n",
       "    }\n",
       "\n",
       "    .dataframe tbody tr th {\n",
       "        vertical-align: top;\n",
       "    }\n",
       "\n",
       "    .dataframe thead th {\n",
       "        text-align: right;\n",
       "    }\n",
       "</style>\n",
       "<table border=\"1\" class=\"dataframe\">\n",
       "  <thead>\n",
       "    <tr style=\"text-align: right;\">\n",
       "      <th></th>\n",
       "      <th>branch_id</th>\n",
       "      <th>customer_id</th>\n",
       "      <th>balance</th>\n",
       "    </tr>\n",
       "  </thead>\n",
       "  <tbody>\n",
       "    <tr>\n",
       "      <th>24</th>\n",
       "      <td>1</td>\n",
       "      <td>45</td>\n",
       "      <td>1689.74</td>\n",
       "    </tr>\n",
       "    <tr>\n",
       "      <th>70</th>\n",
       "      <td>1</td>\n",
       "      <td>126</td>\n",
       "      <td>49541.05</td>\n",
       "    </tr>\n",
       "    <tr>\n",
       "      <th>83</th>\n",
       "      <td>2</td>\n",
       "      <td>386</td>\n",
       "      <td>49963.57</td>\n",
       "    </tr>\n",
       "    <tr>\n",
       "      <th>129</th>\n",
       "      <td>2</td>\n",
       "      <td>883</td>\n",
       "      <td>1095.96</td>\n",
       "    </tr>\n",
       "    <tr>\n",
       "      <th>148</th>\n",
       "      <td>3</td>\n",
       "      <td>117</td>\n",
       "      <td>48385.60</td>\n",
       "    </tr>\n",
       "    <tr>\n",
       "      <th>154</th>\n",
       "      <td>3</td>\n",
       "      <td>271</td>\n",
       "      <td>1569.27</td>\n",
       "    </tr>\n",
       "    <tr>\n",
       "      <th>213</th>\n",
       "      <td>4</td>\n",
       "      <td>81</td>\n",
       "      <td>2173.92</td>\n",
       "    </tr>\n",
       "    <tr>\n",
       "      <th>259</th>\n",
       "      <td>4</td>\n",
       "      <td>532</td>\n",
       "      <td>48693.24</td>\n",
       "    </tr>\n",
       "    <tr>\n",
       "      <th>290</th>\n",
       "      <td>5</td>\n",
       "      <td>125</td>\n",
       "      <td>49999.93</td>\n",
       "    </tr>\n",
       "    <tr>\n",
       "      <th>297</th>\n",
       "      <td>5</td>\n",
       "      <td>494</td>\n",
       "      <td>2054.68</td>\n",
       "    </tr>\n",
       "    <tr>\n",
       "      <th>384</th>\n",
       "      <td>6</td>\n",
       "      <td>713</td>\n",
       "      <td>4582.90</td>\n",
       "    </tr>\n",
       "    <tr>\n",
       "      <th>392</th>\n",
       "      <td>6</td>\n",
       "      <td>551</td>\n",
       "      <td>49954.66</td>\n",
       "    </tr>\n",
       "    <tr>\n",
       "      <th>399</th>\n",
       "      <td>7</td>\n",
       "      <td>396</td>\n",
       "      <td>49477.37</td>\n",
       "    </tr>\n",
       "    <tr>\n",
       "      <th>447</th>\n",
       "      <td>7</td>\n",
       "      <td>536</td>\n",
       "      <td>1044.74</td>\n",
       "    </tr>\n",
       "    <tr>\n",
       "      <th>473</th>\n",
       "      <td>8</td>\n",
       "      <td>183</td>\n",
       "      <td>1728.44</td>\n",
       "    </tr>\n",
       "    <tr>\n",
       "      <th>494</th>\n",
       "      <td>8</td>\n",
       "      <td>189</td>\n",
       "      <td>49707.23</td>\n",
       "    </tr>\n",
       "    <tr>\n",
       "      <th>543</th>\n",
       "      <td>9</td>\n",
       "      <td>72</td>\n",
       "      <td>49885.20</td>\n",
       "    </tr>\n",
       "    <tr>\n",
       "      <th>556</th>\n",
       "      <td>9</td>\n",
       "      <td>852</td>\n",
       "      <td>2083.21</td>\n",
       "    </tr>\n",
       "    <tr>\n",
       "      <th>609</th>\n",
       "      <td>10</td>\n",
       "      <td>49</td>\n",
       "      <td>2126.26</td>\n",
       "    </tr>\n",
       "    <tr>\n",
       "      <th>637</th>\n",
       "      <td>10</td>\n",
       "      <td>851</td>\n",
       "      <td>49419.76</td>\n",
       "    </tr>\n",
       "  </tbody>\n",
       "</table>\n",
       "</div>"
      ],
      "text/plain": [
       "     branch_id  customer_id   balance\n",
       "24           1           45   1689.74\n",
       "70           1          126  49541.05\n",
       "83           2          386  49963.57\n",
       "129          2          883   1095.96\n",
       "148          3          117  48385.60\n",
       "154          3          271   1569.27\n",
       "213          4           81   2173.92\n",
       "259          4          532  48693.24\n",
       "290          5          125  49999.93\n",
       "297          5          494   2054.68\n",
       "384          6          713   4582.90\n",
       "392          6          551  49954.66\n",
       "399          7          396  49477.37\n",
       "447          7          536   1044.74\n",
       "473          8          183   1728.44\n",
       "494          8          189  49707.23\n",
       "543          9           72  49885.20\n",
       "556          9          852   2083.21\n",
       "609         10           49   2126.26\n",
       "637         10          851  49419.76"
      ]
     },
     "execution_count": 174,
     "metadata": {},
     "output_type": "execute_result"
    }
   ],
   "source": [
    "# Customer with highest & lowest balance in each branch\n",
    "merged_df = accounts.merge(customers, on='customer_id')  #merged accounts data with customers data\n",
    "grouped_df = merged_df.groupby('branch_id').agg(\n",
    "    highest_balance=('balance', 'max'),\n",
    "    lowest_balance=('balance', 'min')\n",
    ").reset_index()                         #Find highest and lowest balance for each branch\n",
    "\n",
    "result_df = merged_df.merge(grouped_df, on='branch_id', how='outer')\n",
    "result_df = result_df[(result_df['balance'] == result_df['highest_balance']) | \n",
    "                      (result_df['balance'] == result_df['lowest_balance'])]\n",
    "(result_df[['branch_id', 'customer_id','balance']])"
   ]
  },
  {
   "cell_type": "markdown",
   "id": "6bbbc4a9-e94e-4834-8b01-f30a2b381b67",
   "metadata": {},
   "source": [
    "##### Conclusion: The data reveals that Branch 5 has the highest customer balance, while Branch 2 has the lowest. To optimize profits, the company should focus on high-balance branches, analyze low-balance branches, segment customers based on their balances, and enhance customer experience. Focus on retaining high-balance customers by offering personalized services, exclusive rewards, and proactive outreach."
   ]
  },
  {
   "cell_type": "markdown",
   "id": "b5cc48fd-3168-4357-b965-891857bca083",
   "metadata": {},
   "source": [
    "### d) Current and Savings Account Per Branch"
   ]
  },
  {
   "cell_type": "code",
   "execution_count": 175,
   "id": "e760d63a-5f00-4748-9f6d-82a14ee5d0d5",
   "metadata": {},
   "outputs": [
    {
     "data": {
      "image/png": "[encoded data removed]",
      "text/plain": [
       "<Figure size 1400x400 with 1 Axes>"
      ]
     },
     "metadata": {},
     "output_type": "display_data"
    }
   ],
   "source": [
    "merged_df7 = accounts.merge(branches)\n",
    "grouped_df2 = merged_df7.groupby(['branch_id', 'account_type']).size().reset_index(name='count')\n",
    "\n",
    "colors = ['#B0E0E6', '#89CFF0']\n",
    "plt.figure(figsize=(14, 4))\n",
    "data_labels = sns.barplot(x='branch_id', y='count', hue='account_type', data=grouped_df2, palette= colors)\n",
    "for container in data_labels.containers:\n",
    "    data_labels.bar_label(container, label_type='edge', fontsize =8)\n",
    "plt.xlabel('Branch ID')\n",
    "plt.ylabel('Counts')\n",
    "plt.title('Account Types per Branch')\n",
    "plt.show()"
   ]
  },
  {
   "cell_type": "markdown",
   "id": "0a7dbcb1-17e6-47bc-8ead-02922c7b6b57",
   "metadata": {},
   "source": [
    "##### Conclusion: The graph shows the distribution of current and savings accounts across different branches. Branch 10 has the highest number of current accounts, while Branch 3 has the highest number of savings accounts. To optimize the product mix and customer satisfaction, the bank should implement targeted marketing, product bundling, CRM, employee training, and digital banking initiatives."
   ]
  },
  {
   "cell_type": "markdown",
   "id": "d8805999-6831-40ee-80ab-e6908effe0d8",
   "metadata": {},
   "source": [
    "### e) Analysing difference between Highest and Lowest Balance in each Branch"
   ]
  },
  {
   "cell_type": "code",
   "execution_count": 176,
   "id": "e08e9499-6645-4f8f-9ace-f27977dcacc6",
   "metadata": {},
   "outputs": [
    {
     "name": "stdout",
     "output_type": "stream",
     "text": [
      "   branch_id  max_balance  min_balance  balance_difference\n",
      "0          1     49541.05      1689.74            47851.31\n",
      "1          2     49963.57      1095.96            48867.61\n",
      "2          3     48385.60      1569.27            46816.33\n",
      "3          4     48693.24      2173.92            46519.32\n",
      "4          5     49999.93      2054.68            47945.25\n",
      "5          6     49954.66      4582.90            45371.76\n",
      "6          7     49477.37      1044.74            48432.63\n",
      "7          8     49707.23      1728.44            47978.79\n",
      "8          9     49885.20      2083.21            47801.99\n",
      "9         10     49419.76      2126.26            47293.50\n"
     ]
    },
    {
     "data": {
      "image/png": "[encoded data removed]",
      "text/plain": [
       "<Figure size 1200x500 with 1 Axes>"
      ]
     },
     "metadata": {},
     "output_type": "display_data"
    }
   ],
   "source": [
    "# Analysing difference between Highest and Lowest Balance in each Branch\n",
    "merged_df = accounts.merge(branches)\n",
    "grouped_df = merged_df.groupby('branch_id').agg(max_balance=('balance', 'max'), min_balance=('balance', 'min')).reset_index()\n",
    "\n",
    "grouped_df['balance_difference'] = grouped_df['max_balance'] - grouped_df['min_balance']\n",
    "print(grouped_df) \n",
    "\n",
    "plt.figure(figsize=(12, 5))\n",
    "plt.plot(grouped_df['branch_id'], grouped_df['balance_difference'])\n",
    "for i, row in grouped_df.iterrows():\n",
    "    plt.text(row['branch_id'], row['balance_difference'] + 50, str(row['balance_difference']), ha='center', fontsize = 7) \n",
    "plt.xlabel('Branch_ID')\n",
    "plt.ylabel('Balance Difference')\n",
    "plt.title('Balance Difference Per Branch')\n",
    "plt.grid(False)\n",
    "plt.show()"
   ]
  },
  {
   "cell_type": "markdown",
   "id": "90ee7575-48a1-4c7f-b2dc-5ade496d0b83",
   "metadata": {},
   "source": [
    "##### Conclusion: There's a significant difference between the highest and lowest balances across branches. This suggests that some branches are performing better than others in terms of customer spending and account balances.\n",
    "##### Focus the branches having highest balance difference, analyse the root cause and implement the startefies to improve the branch performances.\n",
    "##### Additionally, prioritize customer satisfaction by improving service quality, addressing complaints, and offering personalized financial solutions."
   ]
  },
  {
   "cell_type": "markdown",
   "id": "d694fa6f-8e25-4cf3-997c-dbf0afefbcde",
   "metadata": {},
   "source": [
    "### f) Well Performing Branches"
   ]
  },
  {
   "cell_type": "code",
   "execution_count": 177,
   "id": "1e647b31-f6e5-4249-b53a-352741e5c351",
   "metadata": {},
   "outputs": [
    {
     "name": "stdout",
     "output_type": "stream",
     "text": [
      "             Number_of_Customers  Number_of_Accounts  Maximum_Balance\n",
      "branch_name                                                          \n",
      "N12n                          71                  71         49963.57\n",
      "O11r                          71                  71         49541.05\n",
      "V18a                          69                  69         49707.23\n",
      "N12n                          71                  71         49963.57\n",
      "O11r                          71                  71         49541.05\n"
     ]
    }
   ],
   "source": [
    "# Well Performing Branches\n",
    "Performing_branches = merged_df.groupby('branch_name').agg(Number_of_Customers = ('customer_id', 'nunique'), \n",
    "                                                              Number_of_Accounts = ('account_id', 'nunique'), \n",
    "                                                               Maximum_Balance= ('balance', 'max')\n",
    "                                                              ) \n",
    "\n",
    "top_customers = Performing_branches.nlargest(3, 'Number_of_Customers')\n",
    "top_accounts = Performing_branches.nlargest(3, 'Number_of_Accounts')\n",
    "top_balance = Performing_branches.nlargest(3, 'Maximum_Balance')\n",
    "\n",
    "top_branches = pd.concat([top_customers, top_accounts, top_balance])\n",
    "print(top_branches.head(5))"
   ]
  },
  {
   "cell_type": "markdown",
   "id": "72927ec5-886e-4af9-b914-f118a6c54076",
   "metadata": {},
   "source": [
    "##### Conclusion: Branches N12n, O11r, and V18a are consistently among the top performers in terms of customer base, account numbers, and maximum balance. This indicates their strong performance across key metrics."
   ]
  },
  {
   "cell_type": "markdown",
   "id": "8dd0684d-8c85-4718-87ce-f9b008ce7f88",
   "metadata": {},
   "source": [
    "### g) KYC Status of Customers"
   ]
  },
  {
   "cell_type": "code",
   "execution_count": 178,
   "id": "c245ae64-92bb-4aa6-b7cb-956cfa22a909",
   "metadata": {},
   "outputs": [
    {
     "data": {
      "image/png": "[encoded data removed]",
      "text/plain": [
       "<Figure size 640x480 with 1 Axes>"
      ]
     },
     "metadata": {},
     "output_type": "display_data"
    }
   ],
   "source": [
    "# KYC Status of Customers\n",
    "merged_df = customers.merge(kyc)\n",
    "\n",
    "grouped_df2 = merged_df.groupby(['kyc_status']).size().to_frame(name = 'count').reset_index()\n",
    "colors = ['lightblue', 'lightpink', 'lightgreen']\n",
    "\n",
    "plt.pie(grouped_df2['count'], labels=grouped_df2['kyc_status'], autopct='%1.1f%%', startangle=180, colors = colors)\n",
    "plt.title('Distribution of Customers by KYC Status')\n",
    "plt.axis('equal')\n",
    "plt.show()"
   ]
  },
  {
   "cell_type": "markdown",
   "id": "6186db01-4eb0-4308-9ad4-f704b44a67c2",
   "metadata": {},
   "source": [
    "##### Conclusion: there are still bottlenecks in the \"Pending\" and \"Under Review\" stages.\n",
    "##### Prioritize pending cases, streamline the verification process, and enhance customer communication."
   ]
  },
  {
   "cell_type": "markdown",
   "id": "e96c9487-3380-4bf4-8b19-667cc9aca2d3",
   "metadata": {},
   "source": [
    "### h) Type of Loans customers are perferring most"
   ]
  },
  {
   "cell_type": "code",
   "execution_count": 179,
   "id": "5bcc06ab-7c6f-450b-805f-79374014c085",
   "metadata": {},
   "outputs": [
    {
     "data": {
      "image/png": "[encoded data removed]",
      "text/plain": [
       "<Figure size 640x480 with 1 Axes>"
      ]
     },
     "metadata": {},
     "output_type": "display_data"
    }
   ],
   "source": [
    "# Type of Loans customers are perferring most\n",
    "merged_df = customers.merge(loans)\n",
    "\n",
    "grouped_df = merged_df.groupby(['loan_type']).size().to_frame(name = 'count').reset_index()\n",
    "\n",
    "custom_colours = ['aquamarine', 'Gold', 'LightCoral']\n",
    "plt.pie(grouped_df['count'], labels=grouped_df['loan_type'], autopct='%1.1f%%', startangle=360, colors =  custom_colours)\n",
    "plt.title('Customer Distribution as per Loan Type')\n",
    "plt.axis('equal')\n",
    "plt.show()"
   ]
  },
  {
   "cell_type": "markdown",
   "id": "70bf6d71-daa9-4240-bf39-2b5b83ffefc9",
   "metadata": {},
   "source": [
    "##### Conclusion: Customers are mostly preffering Home loan. \n",
    "##### Focus on home loans: Since it's the most popular, make sure the bank offers the best home loan deals.\n",
    "##### Promote personal loans: Try to get more people to take out personal loans by offering good rates and easy approval."
   ]
  },
  {
   "cell_type": "markdown",
   "id": "e4614beb-5abc-4609-ae43-ad1aa3bb2423",
   "metadata": {},
   "source": [
    "### i) Highest & Lowest Interest Rate as per loan type"
   ]
  },
  {
   "cell_type": "code",
   "execution_count": 180,
   "id": "1b684f5a-2aa7-490f-bc2f-7ddbb344b510",
   "metadata": {},
   "outputs": [
    {
     "name": "stdout",
     "output_type": "stream",
     "text": [
      "  loan_type  maximum_interest  minimum_interest  average_interest\n",
      "0      Auto              9.96              5.05           7.38920\n",
      "1      Home              9.91              5.00           7.55266\n",
      "2  Personal              9.98              5.02           7.47821\n"
     ]
    }
   ],
   "source": [
    "# Highest & Lowest Interest Rate as per loan type\n",
    "grouped_df = merged_df.groupby(['loan_type']).agg(\n",
    "    maximum_interest=('interest_rate', 'max'),\n",
    "    minimum_interest=('interest_rate', 'min'),\n",
    "    average_interest= ('interest_rate','mean')\n",
    ").reset_index()\n",
    "\n",
    "print(grouped_df)"
   ]
  },
  {
   "cell_type": "markdown",
   "id": "0e28ce74-36c6-47c0-a83f-7151f6c70ba5",
   "metadata": {},
   "source": [
    "### j) Loan status of customers"
   ]
  },
  {
   "cell_type": "code",
   "execution_count": 181,
   "id": "f25b0d04-4f25-442f-b7cc-86c01cdb1242",
   "metadata": {},
   "outputs": [
    {
     "data": {
      "image/png": "[encoded data removed]",
      "text/plain": [
       "<Figure size 640x480 with 1 Axes>"
      ]
     },
     "metadata": {},
     "output_type": "display_data"
    }
   ],
   "source": [
    "# Loan status of customers\n",
    "merged_df = customers.merge(loans)\n",
    "\n",
    "grouped_df = merged_df.groupby(['loan_status']).size().to_frame(name = 'count').reset_index()\n",
    "custom_colours = ['Gold', 'LightCoral']\n",
    "plt.pie(grouped_df['count'], labels=grouped_df['loan_status'], autopct='%1.1f%%', startangle=160, colors = custom_colours)\n",
    "plt.title('Loan Status of Customers')\n",
    "plt.axis('equal')\n",
    "plt.show()"
   ]
  },
  {
   "cell_type": "markdown",
   "id": "ce473ad2-7599-4bcb-a9e8-e670043c625e",
   "metadata": {},
   "source": [
    "### k)Highest and Lowest interest rate for active and closed loan."
   ]
  },
  {
   "cell_type": "code",
   "execution_count": 182,
   "id": "6b43da99-1e3f-488e-9036-78282cb3c318",
   "metadata": {},
   "outputs": [
    {
     "name": "stdout",
     "output_type": "stream",
     "text": [
      "  loan_status  maximum_interest  minimum_interest\n",
      "0      Active              9.98              5.00\n",
      "1      Closed              9.92              5.02\n"
     ]
    }
   ],
   "source": [
    "# Highest and Lowest interest rate for active and closed loan.\n",
    "grouped_df = merged_df.groupby(['loan_status']).agg(\n",
    "    maximum_interest=('interest_rate', 'max'),\n",
    "    minimum_interest=('interest_rate', 'min')\n",
    ").reset_index()\n",
    "print(grouped_df)"
   ]
  },
  {
   "cell_type": "markdown",
   "id": "4dc79889-9d06-45e7-9171-1f1fcb7f6155",
   "metadata": {},
   "source": [
    "### l) Number of Customers having Active loan status"
   ]
  },
  {
   "cell_type": "code",
   "execution_count": 183,
   "id": "23608bb9-29a1-43d1-9303-afd54accaba5",
   "metadata": {},
   "outputs": [
    {
     "data": {
      "image/png": "[encoded data removed]",
      "text/plain": [
       "<Figure size 500x400 with 1 Axes>"
      ]
     },
     "metadata": {},
     "output_type": "display_data"
    }
   ],
   "source": [
    "# Number of Customers having Active loan status\n",
    "merged_df = customers.merge(loans)\n",
    "\n",
    "count_active_loan_customers = merged_df[merged_df['loan_status'] =='Active']\n",
    "customer_counts_by_loan_type = count_active_loan_customers.groupby('loan_type')['customer_id'].nunique()\n",
    "\n",
    "plt.figure(figsize=(5,4))\n",
    "data_labels = sns.barplot(x=customer_counts_by_loan_type.index, y=customer_counts_by_loan_type.values, color= 'lightgreen') \n",
    "for container in data_labels.containers:\n",
    "    data_labels.bar_label(container, label_type='edge', fontsize = 8)\n",
    "plt.xlabel('Loan Type')\n",
    "plt.xlabel('Loan type')\n",
    "plt.ylabel('Active Customers')\n",
    "plt.title('Customers having Active loan status')\n",
    "plt.show()"
   ]
  },
  {
   "cell_type": "markdown",
   "id": "b9f08c04-400e-458a-956e-136eb9c5cfe7",
   "metadata": {},
   "source": [
    "##### Conclusion: The chart shows active customers loans for different things like auto, homes, and personal stuff. Most people have active home loans, followed by personal loans and then auto loans."
   ]
  },
  {
   "cell_type": "markdown",
   "id": "1a5a4703-8e93-433c-aa8e-c444ceda4b02",
   "metadata": {},
   "source": [
    "### m) Customers having more than 1 loan currently"
   ]
  },
  {
   "cell_type": "code",
   "execution_count": 184,
   "id": "2d9361d0-0845-4b97-b056-7ee7d66e9486",
   "metadata": {},
   "outputs": [
    {
     "name": "stdout",
     "output_type": "stream",
     "text": [
      "The number of customer having more than 1 loan is:  66\n"
     ]
    }
   ],
   "source": [
    "# Customers having more than 1 loan currently\n",
    "merged_df = customers.merge(loans)\n",
    "count_active_loan_customers = merged_df[merged_df['loan_status'] =='Active']\n",
    "customer_counts = merged_df.groupby('customer_id').size()\n",
    "multiple_loans_customers = customer_counts[customer_counts > 1]\n",
    "\n",
    "result_df = df[df['customer_id'].isin(multiple_loans_customers.index)]\n",
    "final_df = result_df[['customer_id']].nunique().sum()\n",
    "print(f\"The number of customer having more than 1 loan is: \", final_df)"
   ]
  },
  {
   "cell_type": "markdown",
   "id": "4dc5452f-1c84-4864-9691-8dbc5b4c194a",
   "metadata": {},
   "source": [
    "##### Conclusion: The data shows that 66 customers have taken out more than one loan. This means these customers trust the bank and are likely to take out more loans in the future.\n",
    "##### Combine different loans into one package with special interest rates and fees."
   ]
  },
  {
   "cell_type": "markdown",
   "id": "cfa22362-3855-493c-8940-3380ecea249d",
   "metadata": {},
   "source": [
    "### n) Maximum & Minimum Loan Amount"
   ]
  },
  {
   "cell_type": "code",
   "execution_count": 185,
   "id": "2f82e058-a950-4cd1-9d13-2607880c0956",
   "metadata": {},
   "outputs": [
    {
     "name": "stdout",
     "output_type": "stream",
     "text": [
      "Maximum Loan Amount:  499987.64\n",
      "Minimum Loan Amount:  12196.68\n"
     ]
    }
   ],
   "source": [
    "# Maximum & Minimum Loan Amount\n",
    "merged_df = loans.merge(payments)\n",
    "merged_df\n",
    "\n",
    "maximum_loan_amount = merged_df['loan_amount'].max()\n",
    "minimum_loan_amount = merged_df['loan_amount'].min()\n",
    "print(\"Maximum Loan Amount: \", maximum_loan_amount)\n",
    "print(\"Minimum Loan Amount: \", minimum_loan_amount)"
   ]
  },
  {
   "cell_type": "markdown",
   "id": "2c2e4e94-2bad-4c9b-bf47-c1bc9b43ad66",
   "metadata": {},
   "source": [
    "### o) Total Balance of all accounts per branch"
   ]
  },
  {
   "cell_type": "code",
   "execution_count": 186,
   "id": "09f40e54-9825-46bd-8efc-f90e94d758b5",
   "metadata": {},
   "outputs": [
    {
     "data": {
      "image/png": "[encoded data removed]",
      "text/plain": [
       "<Figure size 1000x500 with 1 Axes>"
      ]
     },
     "metadata": {},
     "output_type": "display_data"
    }
   ],
   "source": [
    "#Total Balance of all accounts per branch\n",
    "merge_df = accounts.merge(branches)\n",
    "total_bal_per_branch = merge_df.groupby('branch_name')['balance'].sum()\n",
    "\n",
    "total_bal_per_branch_df = total_bal_per_branch.to_frame(name='balance') \n",
    "plt.figure(figsize=(10, 5))\n",
    "data_labels = sns.barplot(x='branch_name', y='balance', data=total_bal_per_branch_df, color='lightblue')\n",
    "for container in data_labels.containers:\n",
    "    data_labels.bar_label(container, label_type='edge', fontsize=8)\n",
    "plt.title('Total Balance per branch')\n",
    "plt.xlabel('Branch')\n",
    "plt.ylabel('Total Balance')\n",
    "plt.xticks(rotation=0)\n",
    "plt.gca().yaxis.set_major_formatter('{:.0f}'.format)\n",
    "plt.show()"
   ]
  },
  {
   "cell_type": "markdown",
   "id": "f43fe22f-7885-41e7-b301-402b99bbaa69",
   "metadata": {},
   "source": [
    "##### Conclusion: Branches with the most money i.e B16a, O11r, V18a and Y15a are doing well, so the bank should focus on keeping their customers happy and attracting new ones.\n",
    "##### Branches with less money i.e M20i and R17i can offer special deals or promotions to attract more customers and increase the balance in these branches."
   ]
  },
  {
   "cell_type": "markdown",
   "id": "e84a4f56-9bac-4697-add0-3ac4c171f6fc",
   "metadata": {},
   "source": [
    "### p) Balances across different account types per branch\n"
   ]
  },
  {
   "cell_type": "code",
   "execution_count": 187,
   "id": "d04ecfee-25b7-46f8-8add-27231379202c",
   "metadata": {},
   "outputs": [
    {
     "data": {
      "text/plain": [
       "<Figure size 2000x500 with 0 Axes>"
      ]
     },
     "metadata": {},
     "output_type": "display_data"
    },
    {
     "data": {
      "image/png": "[encoded data removed]",
      "text/plain": [
       "<Figure size 640x480 with 1 Axes>"
      ]
     },
     "metadata": {},
     "output_type": "display_data"
    }
   ],
   "source": [
    "#Balances across different account types per branch\n",
    "merge_df = accounts.merge(branches)\n",
    "types_bal_per_branch = merge_df.groupby(['branch_name', 'account_type'])['balance'].sum().unstack()\n",
    "\n",
    "plt.figure(figsize=(20,5))\n",
    "types_bal_per_branch.plot(kind='bar', color=['skyblue', 'lightpink'])\n",
    "plt.xlabel('Branches')\n",
    "plt.ylabel('Balance')\n",
    "plt.title('Distribution of Balances by Account Type per Branch')\n",
    "plt.legend(title=\"Account Type\", fontsize=10, bbox_to_anchor=(1.05, 1), loc='upper left')\n",
    "plt.xticks(rotation=60)\n",
    "plt.show()"
   ]
  },
  {
   "cell_type": "markdown",
   "id": "e8af9737-41b2-4f3a-94b9-51b1ccad0d5a",
   "metadata": {},
   "source": [
    "##### Conclusion:R13n branch having the highest savings account as well as least current accounts as well, whereas N12n has highest current accounts and  R17i has least savings account. \n",
    "##### Offer deals or incentives to get people to use both types of accounts and make sure employees can explain the benefits of different account types and help customers choose the right ones."
   ]
  },
  {
   "cell_type": "markdown",
   "id": "60e95ecd-0b9b-45fb-9178-9ab371bd086c",
   "metadata": {},
   "source": [
    "### q) Total no. of transactions processed per branch "
   ]
  },
  {
   "cell_type": "code",
   "execution_count": 188,
   "id": "c96dd0ab-0056-4d5c-af9c-5b6a1f405c9f",
   "metadata": {},
   "outputs": [
    {
     "data": {
      "image/png": "[encoded data removed]",
      "text/plain": [
       "<Figure size 1000x500 with 1 Axes>"
      ]
     },
     "metadata": {},
     "output_type": "display_data"
    }
   ],
   "source": [
    "# Total no. of transactions processed per branch\n",
    "merged_df = accounts.merge(transaction)\n",
    "transaction_count_per_branch = merged_df.groupby('branch_id')['transaction_id'].count()\n",
    "\n",
    "transaction_count_df = transaction_count_per_branch.to_frame(name='transaction_id')\n",
    "\n",
    "plt.figure(figsize=(10, 5))\n",
    "data_labels = sns.barplot(x='branch_id', y='transaction_id', data=transaction_count_df, color='Gold')\n",
    "for container in data_labels.containers:\n",
    "    data_labels.bar_label(container, label_type='edge', fontsize=8)\n",
    "plt.title('Total Number of Transactions per Branch')\n",
    "plt.xlabel('Branch')\n",
    "plt.ylabel('Number of Transactions')\n",
    "plt.xticks(rotation=0)\n",
    "plt.show()"
   ]
  },
  {
   "cell_type": "markdown",
   "id": "8b2eb300-da55-45e7-910d-e5dd363e3420",
   "metadata": {},
   "source": [
    "##### Conclusion: Branch 2 is the busiest, while Branch 10 is the least busy.\n",
    "##### Give bonuses or special perks to the employees at the busiest branches to keep them motivated.\n",
    "##### Figure out why some branches are less busy? Is it because of location, hours, or something else? The bank can make changes to attract more customers to these branches.\n",
    "##### Train employees to be friendly and helpful as Good customer service can make a big difference in how many customers choose a particular branch."
   ]
  },
  {
   "cell_type": "markdown",
   "id": "6d54b05e-d737-4815-8491-41668efb1ffb",
   "metadata": {},
   "source": [
    "### r) Distribution of transaction types per branch (count)"
   ]
  },
  {
   "cell_type": "code",
   "execution_count": 189,
   "id": "47953813-3be9-4cf4-a8cc-2a7e5a939fc0",
   "metadata": {},
   "outputs": [
    {
     "data": {
      "image/png": "[encoded data removed]",
      "text/plain": [
       "<Figure size 1000x500 with 1 Axes>"
      ]
     },
     "metadata": {},
     "output_type": "display_data"
    }
   ],
   "source": [
    "# Distribution of transaction types per branch (count)\n",
    "merged_df = accounts.merge(transaction)\n",
    "transaction_types_per_branch = merged_df.groupby(['branch_id', 'transaction_type'])['balance'].size().unstack()\n",
    "\n",
    "colors = ['#87CEEB', '#D1E8CD']\n",
    "melted_data = transaction_types_per_branch.reset_index().melt(\n",
    "    id_vars='branch_id', \n",
    "    var_name='transaction_type', \n",
    "    value_name='count'\n",
    ")\n",
    "plt.figure(figsize=(10, 5))\n",
    "data_labels=sns.barplot(x='branch_id',y='count',hue='transaction_type',data=melted_data, palette= colors)\n",
    "for container in data_labels.containers:\n",
    "    data_labels.bar_label(container, label_type='edge', fontsize=8)\n",
    "plt.xlabel('Branch ID')\n",
    "plt.ylabel('Count')\n",
    "plt.title('Transactions Types per Branch')\n",
    "plt.legend(title='Transaction Type')\n",
    "plt.xticks(rotation=0)\n",
    "plt.show()"
   ]
  },
  {
   "cell_type": "code",
   "execution_count": 191,
   "id": "0b656e1b-c3ef-4340-8286-79e65bfe0a5e",
   "metadata": {},
   "outputs": [
    {
     "name": "stdout",
     "output_type": "stream",
     "text": [
      "File saved successfully as 'merged_data6.csv'\n"
     ]
    }
   ],
   "source": [
    "merged_data = accounts.merge(branches)\n",
    "merged_data2 = merged_data.merge(customers)\n",
    "merged_data3= merged_data2.merge(kyc)\n",
    "merged_data4= merged_data3.merge(loans)\n",
    "merged_data5= merged_data4.merge(payments)\n",
    "merged_data6= merged_data5.merge(transaction) \n",
    "\n",
    "merged_data6.to_csv('merged_data6.csv', index=False)\n",
    "print(\"File saved successfully as 'merged_data6.csv'\")"
   ]
  }
 ],
 "metadata": {
  "kernelspec": {
   "display_name": "Python 3 (ipykernel)",
   "language": "python",
   "name": "python3"
  },
  "language_info": {
   "codemirror_mode": {
    "name": "ipython",
    "version": 3
   },
   "file_extension": ".py",
   "mimetype": "text/x-python",
   "name": "python",
   "nbconvert_exporter": "python",
   "pygments_lexer": "ipython3",
   "version": "3.11.5"
  }
 },
 "nbformat": 4,
 "nbformat_minor": 5
}
